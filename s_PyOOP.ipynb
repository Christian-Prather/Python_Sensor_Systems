{
 "cells": [
  {
   "cell_type": "markdown",
   "metadata": {},
   "source": [
    "<div style=\"float: left; width: 25%;\">\n",
    "<ul>\n",
    "<img src=\"http://www.minesnewsroom.com/sites/default/files/wysiwyg-editor/photos/CO-Mines-logo-stacked-4C-200x235w.png\" style=\"height: 115px;\">\n",
    "</ul>\n",
    "</div>\n",
    "\n",
    "<div style=\"float: right; width: 75%;\">\n",
    "<ul>\n",
    "    <h1> CSCI 250 - Building a Sensor System </h1>\n",
    "    <span style=\"color:red\">\n",
    "        <h2> object-oriented programming </h2>\n",
    "    </span>\n",
    "</ul>\n",
    "</div>"
   ]
  },
  {
   "cell_type": "markdown",
   "metadata": {},
   "source": [
    "# Objective\n",
    "Introduce fundamental concepts of object-oriented programming."
   ]
  },
  {
   "cell_type": "markdown",
   "metadata": {},
   "source": [
    "# Resources\n",
    "* **A Student's Guide to Python for Physical Modeling**\n",
    "* [Python introduction](https://docs.python.org/3/tutorial)\n",
    "* [Programiz Python tutorial](https://www.programiz.com/python-programming/object-oriented-programming)"
   ]
  },
  {
   "cell_type": "markdown",
   "metadata": {},
   "source": [
    "# Object-oriented programming\n",
    "\n",
    "Object-oriented programming (OOP) is a programming paradigm that emphasizes code re-usability. OOP exploits the concept of **object**, which are entities containing\n",
    "* **attributes**: data representing the object\n",
    "* **methods**: behavior of the object\n",
    "\n",
    "Objects are generated from **classes** which contains info about the data contained by an object and the procedures acting on the object.\n",
    "> * Objects are instances of classes. \n",
    "> * Classes are blueprints of objects.\n",
    "\n",
    "A class contains only the description of objects. No storage is allocated until an object is created."
   ]
  },
  {
   "cell_type": "markdown",
   "metadata": {},
   "source": [
    "# define a class\n",
    "\n",
    "The keyword `class` defines a new class."
   ]
  },
  {
   "cell_type": "code",
   "execution_count": null,
   "metadata": {},
   "outputs": [],
   "source": [
    "# define a class\n",
    "class Person:\n",
    "    '''class Person describes persons'''\n",
    "    \n",
    "    # constructor\n",
    "    def __init__(self, first,last,age ):\n",
    "        self.first = first             # instance variables\n",
    "        self.last  = last              #\n",
    "        self.age   = age               #\n",
    "        \n",
    "    # methods\n",
    "    def identity(self):\n",
    "        print(self.first,self.last,', age',self.age)"
   ]
  },
  {
   "cell_type": "markdown",
   "metadata": {},
   "source": [
    "<img src=\"http://www.dropbox.com/s/fcucolyuzdjl80k/todo.jpg?raw=1\" width=\"10%\" align=\"left\">\n",
    "\n",
    "Add other attributes and one other method to the Person class."
   ]
  },
  {
   "cell_type": "markdown",
   "metadata": {},
   "source": [
    "# create an object\n",
    "\n",
    "The constructor function, named `__init__`, creates an object of a class."
   ]
  },
  {
   "cell_type": "code",
   "execution_count": null,
   "metadata": {},
   "outputs": [],
   "source": [
    "# create new objects from class Student\n",
    "lisa   = Person('Lisa','Simpson',8)  \n",
    "bart   = Person('Bart','Simpson',10) \n",
    "maggie = Person('Maggie','Simpson',1)"
   ]
  },
  {
   "cell_type": "code",
   "execution_count": null,
   "metadata": {},
   "outputs": [],
   "source": [
    "print(type(bart))\n",
    "print(type(lisa))\n",
    "print(type(maggie))"
   ]
  },
  {
   "cell_type": "markdown",
   "metadata": {},
   "source": [
    "# attributes\n",
    "\n",
    "There are different kinds of variables in a class:\n",
    "* **Class** variables: belong to the class; there is only one copy\n",
    "* **Instance** variables: belong to objects; every object has a copy\n",
    "* **Member** variables: refers to both the class and instance variables"
   ]
  },
  {
   "cell_type": "code",
   "execution_count": null,
   "metadata": {},
   "outputs": [],
   "source": [
    "# access instance variables\n",
    "print(lisa.first)\n",
    "print(lisa.last)\n",
    "print(lisa.age)"
   ]
  },
  {
   "cell_type": "markdown",
   "metadata": {},
   "source": [
    "# methods\n",
    "\n",
    "There are different methods in a class:\n",
    "* **Class** methods: \n",
    "    * belong to the class as a whole\n",
    "    * have access only to class variables \n",
    "    \n",
    "* **Instance** methods\n",
    "    * belong to individual objects\n",
    "    * have access to instance and class variables"
   ]
  },
  {
   "cell_type": "code",
   "execution_count": null,
   "metadata": {},
   "outputs": [],
   "source": [
    "bart.identity()\n",
    "lisa.identity()\n",
    "maggie.identity()"
   ]
  },
  {
   "cell_type": "markdown",
   "metadata": {},
   "source": [
    "# destroy an object\n",
    "\n",
    "The function `del` is used to destroy an object (including its attributes). No other objects are affected."
   ]
  },
  {
   "cell_type": "code",
   "execution_count": null,
   "metadata": {
    "scrolled": true
   },
   "outputs": [],
   "source": [
    "del(bart)\n",
    "del(lisa)\n",
    "del(maggie)"
   ]
  },
  {
   "cell_type": "markdown",
   "metadata": {},
   "source": [
    "# Class properties\n",
    "Classes are powerful programing tools because they are characterized by: \n",
    "* **Inheritance**\n",
    "* **Encapsulation**\n",
    "* **Polymorphism**\n",
    "\n",
    "These properties enable faster code development, as well as clearer and reusable code."
   ]
  },
  {
   "cell_type": "markdown",
   "metadata": {},
   "source": [
    "# Inheritance\n",
    "\n",
    "Inheritance means that a  **derived**) class can be defined based on another (**base**) class. The attributes and methods of the base class are inherited by the derived class."
   ]
  },
  {
   "cell_type": "code",
   "execution_count": null,
   "metadata": {},
   "outputs": [],
   "source": [
    "#                        derived class - Student\n",
    "class Student(Person): #    base class - Person\n",
    "    '''class Student describes students'''\n",
    "    \n",
    "    __school = 'Springfield Elementary'  # class variable (private)\n",
    "    \n",
    "    def __init__(self, first,last,age):  # derived class constructor\n",
    "        super().__init__(first,last,age) # base class constructor\n",
    "        \n",
    "        self.scores = dict()             # instance variable (dict)\n",
    "\n",
    "    # member functions\n",
    "    def grade(self):        \n",
    "        gr = self.age - 6\n",
    "        if(gr > 1):\n",
    "            print('grade',gr,'at',self.__school) # use class variable\n",
    "        else:\n",
    "            print('kindergarden')        \n",
    "        \n",
    "    def addScore(self, key,val):\n",
    "        self.scores[key]=val\n",
    "        \n",
    "    def getScores(self):\n",
    "        print(self.first,self.scores)"
   ]
  },
  {
   "cell_type": "code",
   "execution_count": null,
   "metadata": {},
   "outputs": [],
   "source": [
    "# create an object from class Student\n",
    "lisa = Student('Lisa','Simpson',8)"
   ]
  },
  {
   "cell_type": "code",
   "execution_count": null,
   "metadata": {},
   "outputs": [],
   "source": [
    "type(lisa)"
   ]
  },
  {
   "cell_type": "code",
   "execution_count": null,
   "metadata": {
    "scrolled": true
   },
   "outputs": [],
   "source": [
    "lisa.identity() # method inherited from class Person\n",
    "lisa.grade()    # method defined in class Student "
   ]
  },
  {
   "cell_type": "code",
   "execution_count": null,
   "metadata": {},
   "outputs": [],
   "source": [
    "lisa.getScores() # new method in class Student\n",
    "\n",
    "lisa.addScore('MA',97) # modify instance variable 'scores' \n",
    "lisa.addScore('SS',92) #\n",
    "lisa.addScore('EN',94) #\n",
    "\n",
    "lisa.getScores() # new method in class Student"
   ]
  },
  {
   "cell_type": "markdown",
   "metadata": {},
   "source": [
    "<img src=\"http://www.dropbox.com/s/fcucolyuzdjl80k/todo.jpg?raw=1\" width=\"10%\" align=\"left\">\n",
    "\n",
    "Add another method in class Student. Use attributes inherited from class Person."
   ]
  },
  {
   "cell_type": "markdown",
   "metadata": {},
   "source": [
    "# Encapsulation\n",
    "\n",
    "Encapsulation means that a class can restrict access to methods or attributes. Private attributes are denoted in Python using underscores: `_` or `__`."
   ]
  },
  {
   "cell_type": "code",
   "execution_count": null,
   "metadata": {},
   "outputs": [],
   "source": [
    "# access and change a public variable\n",
    "lisa.identity()\n",
    "lisa.age = 9\n",
    "lisa.identity()"
   ]
  },
  {
   "cell_type": "code",
   "execution_count": null,
   "metadata": {
    "scrolled": true
   },
   "outputs": [],
   "source": [
    "# access and (try to) change a private variable\n",
    "lisa.grade()\n",
    "lisa.__school = 'Colorado School of Mines' \n",
    "lisa.grade()"
   ]
  },
  {
   "cell_type": "markdown",
   "metadata": {},
   "source": [
    "<img src=\"http://www.dropbox.com/s/fcucolyuzdjl80k/todo.jpg?raw=1\" width=\"10%\" align=\"left\">\n",
    "\n",
    "Introduce additional private attributes in class Student."
   ]
  },
  {
   "cell_type": "markdown",
   "metadata": {},
   "source": [
    "# Polymorphism\n",
    "\n",
    "Polymorphism means that functions have the ability to process objects differently depending on their class."
   ]
  },
  {
   "cell_type": "code",
   "execution_count": null,
   "metadata": {},
   "outputs": [],
   "source": [
    "#                        derived class - Athlete\n",
    "class Athlete(Person): #    base class - Person\n",
    "    '''class Athlete describes athletes'''\n",
    "\n",
    "    def __init__(self, first,last,age):  # derived class constructor\n",
    "        super().__init__(first,last,age) # base class constructor        \n",
    "\n",
    "        self.times = []                  # instance variable (list)\n",
    "\n",
    "    # member functions    \n",
    "    def addScore(self, key,val): # different from the function with\n",
    "                                 # the same name in class Student\n",
    "        self.times.append(key)\n",
    "        self.times.append(val)\n",
    "        \n",
    "    def getScores(self):\n",
    "        print(self.first,self.times)"
   ]
  },
  {
   "cell_type": "markdown",
   "metadata": {},
   "source": [
    "We can define objects that belong to different classes."
   ]
  },
  {
   "cell_type": "code",
   "execution_count": null,
   "metadata": {
    "scrolled": true
   },
   "outputs": [],
   "source": [
    "bart = Person('Bart','Simpson',10)\n",
    "\n",
    "lisa = Student('Lisa','Simpson',8)\n",
    "lisa.addScore('EN','94')\n",
    "\n",
    "maggie = Athlete('Maggie','Simpson',1)\n",
    "maggie.addScore('50m free','5s')\n",
    "\n",
    "print(type(bart))\n",
    "print(type(lisa))\n",
    "print(type(maggie))"
   ]
  },
  {
   "cell_type": "markdown",
   "metadata": {},
   "source": [
    "We can define function that accepts inputs from different classes."
   ]
  },
  {
   "cell_type": "code",
   "execution_count": null,
   "metadata": {},
   "outputs": [],
   "source": [
    "# common interface - works on different classes\n",
    "# we do not specify upfront the class of object 'kid'\n",
    "def inquire( kid ):\n",
    "    kid.identity()\n",
    "    kid.getScores()"
   ]
  },
  {
   "cell_type": "code",
   "execution_count": null,
   "metadata": {},
   "outputs": [],
   "source": [
    "# call on an object from class Student\n",
    "# - getScores returns a dictionary\n",
    "inquire(lisa)"
   ]
  },
  {
   "cell_type": "code",
   "execution_count": null,
   "metadata": {
    "scrolled": true
   },
   "outputs": [],
   "source": [
    "# call on an object from class Athlete\n",
    "# - getScores returns a list\n",
    "inquire(maggie)"
   ]
  },
  {
   "cell_type": "markdown",
   "metadata": {},
   "source": [
    "<img src=\"http://www.dropbox.com/s/fcucolyuzdjl80k/todo.jpg?raw=1\" width=\"10%\" align=\"left\">\n",
    "\n",
    "Define additional functions that demonstrate different behavior depending on the class of their arguments."
   ]
  },
  {
   "cell_type": "markdown",
   "metadata": {},
   "source": [
    "<img src=\"https://www.dropbox.com/s/wj23ce93pa9j8pe/demo.png?raw=1\" width=\"10%\" align=\"left\">\n",
    "# Exercise\n",
    "Develop a generic **Analog Sensor class** with its own methods and attributes. Use this class to construct derived classes for the Potentiometer, Photoresistor and Sound Sensor. Use inheritance to reuse methods defined in the base Analog Sensor class. Use the derived classes to build objects for different sensors, then collect and analyze data."
   ]
  },
  {
   "cell_type": "code",
   "execution_count": null,
   "metadata": {},
   "outputs": [],
   "source": [
    "import spiUtils as su\n",
    "\n",
    "# Generic analog sensor class that uses readADC() from spiUtils.py\n",
    "class AnalogSensor:\n",
    "    \n",
    "    # class variables (private)\n",
    "    _supplyVoltage = 3.3\n",
    "    _adcDigits = 1023\n",
    "    \n",
    "    # initialize the sensor channel number\n",
    "    def __init__(self, channel):\n",
    "        self.channel = channel\n",
    "    \n",
    "    # Grab the raw number from the ADC, which ranges from 0-1023 (or 2^10-1)\n",
    "    def getRaw(self):\n",
    "        return su.readADC(self.channel)\n",
    "    \n",
    "    # Convert raw ADC number to voltage\n",
    "    def getVoltage(self):\n",
    "        return self.getRaw() * self._supplyVoltage / self._adcDigits"
   ]
  },
  {
   "cell_type": "markdown",
   "metadata": {},
   "source": [
    "### Inheritance demo\n",
    "The class Photoresistor inherits attributes and methods from the class AnalogSensor."
   ]
  },
  {
   "cell_type": "code",
   "execution_count": null,
   "metadata": {},
   "outputs": [],
   "source": [
    "# Photoresistors are analog sensors which change their resistance with light intensity\n",
    "class Photoresistor(AnalogSensor):\n",
    "    \n",
    "    # Initializes sensor, and gives channel number to AnalogSensor's __init__()\n",
    "    def __init__(self, channel, dividerResistance=1e4):\n",
    "        super().__init__(channel)\n",
    "    \n",
    "        # other resistance for the voltage divider\n",
    "        # constructed with the photoresistor\n",
    "        self.divideResistance = dividerResistance # instance variable \n",
    "    \n",
    "    # Calculate resistance of photoresistor \n",
    "    def getResistance(self):\n",
    "        return self.dividerResistance * (self._supplyVoltage / self.getVoltage() - 1)"
   ]
  },
  {
   "cell_type": "markdown",
   "metadata": {},
   "source": [
    "### Encapsulation demo\n",
    "The class Photoresistor uses the private variable `_supplyVoltage`, inherited from class AnalogSensor."
   ]
  },
  {
   "cell_type": "code",
   "execution_count": null,
   "metadata": {},
   "outputs": [],
   "source": [
    "# Create an instance of the AnalogSensor class for the potentiometer on channel 0\n",
    "pot = AnalogSensor(0)\n",
    "\n",
    "# Create an instance of the Photoresistor class for the photoresistor on channel 1\n",
    "pho = Photoresistor(1) # use default value for the divider resistance"
   ]
  },
  {
   "cell_type": "code",
   "execution_count": null,
   "metadata": {
    "scrolled": true
   },
   "outputs": [],
   "source": [
    "# print the voltage for the potentiometer\n",
    "print(pot.getVoltage())\n",
    "\n",
    "# print the voltage and resistance for the photoresistor\n",
    "print(pho.getVoltage(),pho.getResistance())"
   ]
  },
  {
   "cell_type": "code",
   "execution_count": null,
   "metadata": {},
   "outputs": [],
   "source": [
    "import numpy as np"
   ]
  },
  {
   "cell_type": "markdown",
   "metadata": {},
   "source": [
    "### Polymorphism demo\n",
    "The function `bigData` returns a numpy array with voltages collected with an unspecified sensor object."
   ]
  },
  {
   "cell_type": "code",
   "execution_count": null,
   "metadata": {},
   "outputs": [],
   "source": [
    "def bigData( n,sensor ):\n",
    "    data = np.zeros(n)\n",
    "    \n",
    "    for i in range(n):\n",
    "        data[i] = pot.getVoltage()\n",
    "\n",
    "    return data"
   ]
  },
  {
   "cell_type": "code",
   "execution_count": null,
   "metadata": {},
   "outputs": [],
   "source": [
    "potData = bigData(10,pot) # call the function with an AnalogSensor object\n",
    "print(potData)\n",
    "\n",
    "phoData = bigData(10,pho) # call the function with a Photoresistor object \n",
    "print(phoData)"
   ]
  },
  {
   "cell_type": "code",
   "execution_count": null,
   "metadata": {},
   "outputs": [],
   "source": [
    "# delete the objects\n",
    "del(pot)\n",
    "del(pho)"
   ]
  },
  {
   "cell_type": "markdown",
   "metadata": {},
   "source": [
    "<img src=\"https://www.dropbox.com/s/wj23ce93pa9j8pe/demo.png?raw=1\" width=\"10%\" align=\"left\">\n",
    "\n",
    "# Sound detector class\n",
    "\n",
    "Create a class for the sound detector that inherits the `AnalogSensor` class. Create the following methods:\n",
    "\n",
    "* `getAudio()`\n",
    "    * Returns the voltage from the audio pin of the sound detector, biased by half of the supply voltage. Use private class attributes.\n",
    "* `getEnvelope()`\n",
    "    * Returns the voltage from the envelope pin of the sound detector.\n",
    "* `getGate()`\n",
    "    * This should return the state of the gate pin on the sound detector. Hint: you'll need to make use of a GPIO pin!\n",
    "    \n",
    "Call the function `bigData` to collect a large data volume."
   ]
  },
  {
   "cell_type": "code",
   "execution_count": null,
   "metadata": {},
   "outputs": [],
   "source": [
    "# Write your code here!"
   ]
  }
 ],
 "metadata": {
  "kernelspec": {
   "display_name": "Python 3",
   "language": "python",
   "name": "python3"
  },
  "language_info": {
   "codemirror_mode": {
    "name": "ipython",
    "version": 3
   },
   "file_extension": ".py",
   "mimetype": "text/x-python",
   "name": "python",
   "nbconvert_exporter": "python",
   "pygments_lexer": "ipython3",
   "version": "3.6.5"
  }
 },
 "nbformat": 4,
 "nbformat_minor": 2
}
