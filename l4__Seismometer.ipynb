{
 "cells": [
  {
   "cell_type": "markdown",
   "metadata": {},
   "source": [
    "<div style=\"float: left; width: 25%;\">\n",
    "<ul>\n",
    "<img src=\"http://www.minesnewsroom.com/sites/default/files/wysiwyg-editor/photos/CO-Mines-logo-stacked-4C-200x235w.png\" style=\"height: 115px;\">\n",
    "</ul>\n",
    "</div>\n",
    "\n",
    "<div style=\"float: right; width: 75%;\">\n",
    "<ul>\n",
    "    <h1> CSCI 250 - Building a Sensor System </h1>\n",
    "    <span style=\"color:red\">\n",
    "        <h2> Lab 4: Seismometer </h2>\n",
    "        <h3> Your Name: Bart Simpson </h3>\n",
    "    </span>\n",
    "</ul>\n",
    "</div>"
   ]
  },
  {
   "cell_type": "markdown",
   "metadata": {},
   "source": [
    "# Introduction\n",
    "\n",
    "This goal for this lab is for you to create a seismometer using a variety of **motion sensors**."
   ]
  },
  {
   "cell_type": "markdown",
   "metadata": {},
   "source": [
    "# Before you begin\n",
    "\n",
    "<img src=\"http://www.dropbox.com/s/fcucolyuzdjl80k/todo.jpg?raw=1\" width=\"10%\" align=\"left\">\n",
    "\n",
    "Begin by reviewing the following notebooks to understand how to connect and use them correctly:\n",
    "* [Tilt switch](../hw/h_TiltSwitch.ipynb)\n",
    "* [Piezo element](../hw/h_PiezoElement.ipynb)\n",
    "* [Accelerometer](../hw/h_Accelerometer.ipynb)\n",
    "\n",
    "Build the circuits and run the code in those notebooks to make sure everything is working correctly. \n",
    "\n",
    "To check your understanding, answer the following questions below before proceeding with the lab."
   ]
  },
  {
   "cell_type": "markdown",
   "metadata": {},
   "source": [
    "## Tilt Switch\n",
    "\n",
    "1. In what orientations does the switch open/close?\n",
    "    * Your answer here\n",
    "2. What can you do if you don't like having the switch attached to the breadboard?\n",
    "    * Your answer here\n",
    "3. What is the purpose of the pull-up/pull-down resistors?\n",
    "    * Your answer here\n",
    "\n",
    "## Piezo Element\n",
    "\n",
    "1. Briefly describe the piezoelectric effect.\n",
    "    * Your answer here\n",
    "2. Why might the 1M Ohm resistor be important?\n",
    "    * Your answer here\n",
    "3. What is the largest voltage you could measure from the piezo element in testing?\n",
    "    * Your answer here\n",
    "\n",
    "## Accelerometer\n",
    "\n",
    "1. What accelerations do you measure when the sensor is placed flat?\n",
    "    * Your answer here\n",
    "2. How would you calculate the total magnitude of acceleration? (Hint: there's a useful theorem for this!)\n",
    "    * Your answer here\n",
    "3. What is the maximum acceleration that you can measure in each direction? (Try it! But don't break anything.)\n",
    "    * Your answer here"
   ]
  },
  {
   "cell_type": "markdown",
   "metadata": {},
   "source": [
    "# Directions\n",
    "\n",
    "Your goal is to create a seismometer using the listed motion sensors. The basic process for this lab is as follows: your code should wait until large seismic activity is detected, large enough to flip over the tilt switch. When the tilt switch flips, your code needs to take lots of data from the piezo element and from the accelerometer to record the earthquake behavior. \n",
    "\n",
    "**Specific lab requirements**:\n",
    "* Your code should wait until the tilt switch flips over.\n",
    "    * Once it flips, record and store 15s of data from the piezo sensor and from the accelerometer in NumPy arrays. \n",
    "    * Also store the time of each measurement in a NumPy array.\n",
    "    * Record data from the sensors continuously, i.e. do not use `time.sleep()`\n",
    "* Save all data arrays into a file.\n",
    "    * Put all arrays into a single file using `np.savez()` - see the [file I/O](s_NpFileIO.ipynb) notebook.\n",
    "* Create plots of your data vs. time.\n",
    "    * Plot each data array on it's on plot over-under using subplots.\n",
    "* Create a class for your accelerometer with the following methods (feel free to add more):\n",
    "    * `getAcceleration()`\n",
    "        * Returns the 3 accelerometer arrays given by the `readACC()` function\n",
    "    * `getAccelerationX()`\n",
    "        * Returns the acceleration only in the x-direction.\n",
    "    * `getAccelerationY()`\n",
    "        * Returns the acceleration only in the y-direction.\n",
    "    * `getAccelerationZ()`\n",
    "        * Returns the acceleration only in the z-direction.\n",
    "    * `getMagnitude()`\n",
    "        * Returns the magnitude of acceleration measured by the sensor.\n",
    "* Your code only needs to collect one set of data after the switch flips. Once your code does everything described here, it should stop and close all open channels.\n",
    "\n",
    "No starter code for this one, as you should be able to write your code from scratch by now.\n",
    "\n",
    "Be sure to put comments throughout your code so we can understand what it does. Even if you can't figure out how to write the code for something, a comment explaining what you wanted will get partial credit!\n",
    "\n",
    "**Extra credit**:\n",
    "\n",
    "* Add methods to your class that modify the behavior of the accelerometer.\n",
    "    * This will require you to read through the [I2C notebook](h_I2C.ipynb) to understand how to modify the sensor's registers. This task isn't trivial, but good execution will be worth a lot of bonus points!\n",
    "* Anything of your own creation that you feel is worthy of extra credit. Be sure to explain it for us!"
   ]
  },
  {
   "cell_type": "code",
   "execution_count": null,
   "metadata": {},
   "outputs": [],
   "source": [
    "# Write your code here!"
   ]
  },
  {
   "cell_type": "markdown",
   "metadata": {},
   "source": [
    "# Post lab\n",
    "\n",
    "<img src=\"http://www.dropbox.com/s/fcucolyuzdjl80k/todo.jpg?raw=1\" width=\"10%\" align=\"left\">\n",
    "\n",
    "Before you submit the lab, make sure everything works as you expect by restarting the kernel (Jupyter menu bar -> Kernel -> Restart & Run All). Look through the output of your code cells to ensure there are no errors.\n",
    "\n",
    "<br><br>\n",
    "\n",
    "Once you complete the lab assignment, answer the following questions. Please give honest answers - you'll get full credit even if you tell us you hated this lab.\n",
    "\n",
    "1. What elements of this lab did you find easy/challenging?\n",
    "    * Your answer here\n",
    "2. What did you like/dislike about this lab?\n",
    "    * Your answer here\n",
    "3. If you did anything worthy of extra credit, tell us about it here!\n",
    "    * Your answer here"
   ]
  },
  {
   "cell_type": "markdown",
   "metadata": {},
   "source": [
    "# Honor code\n",
    "Unless explicitly specified, labs are **individual exercises**. Your submission is subject to the [**Mines Honor Code**](http://inside.mines.edu/~epoeter/_GW/CSMHonorCodeUndergradHandbook.pdf)."
   ]
  }
 ],
 "metadata": {
  "kernelspec": {
   "display_name": "Python 3",
   "language": "python",
   "name": "python3"
  },
  "language_info": {
   "codemirror_mode": {
    "name": "ipython",
    "version": 3
   },
   "file_extension": ".py",
   "mimetype": "text/x-python",
   "name": "python",
   "nbconvert_exporter": "python",
   "pygments_lexer": "ipython3",
   "version": "3.6.5"
  },
  "varInspector": {
   "cols": {
    "lenName": 16,
    "lenType": 16,
    "lenVar": 40
   },
   "kernels_config": {
    "python": {
     "delete_cmd_postfix": "",
     "delete_cmd_prefix": "del ",
     "library": "var_list.py",
     "varRefreshCmd": "print(var_dic_list())"
    },
    "r": {
     "delete_cmd_postfix": ") ",
     "delete_cmd_prefix": "rm(",
     "library": "var_list.r",
     "varRefreshCmd": "cat(var_dic_list()) "
    }
   },
   "types_to_exclude": [
    "module",
    "function",
    "builtin_function_or_method",
    "instance",
    "_Feature"
   ],
   "window_display": false
  }
 },
 "nbformat": 4,
 "nbformat_minor": 2
}
