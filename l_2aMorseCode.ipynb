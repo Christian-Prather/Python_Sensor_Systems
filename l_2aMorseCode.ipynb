{
 "cells": [
  {
   "cell_type": "markdown",
   "metadata": {},
   "source": [
    "<div style=\"float: left; width: 25%;\">\n",
    "<ul>\n",
    "<img src=\"http://www.minesnewsroom.com/sites/default/files/wysiwyg-editor/photos/CO-Mines-logo-stacked-4C-200x235w.png\" style=\"height: 115px;\">\n",
    "</ul>\n",
    "</div>\n",
    "\n",
    "<div style=\"float: right; width: 75%;\">\n",
    "<ul>\n",
    "    <h1> CSCI 250 - Building a Sensor System </h1>\n",
    "    <span style=\"color:red\">\n",
    "        <h2> Lab 2a: Morse Code </h2>\n",
    "        <h3> Your Name: Bart Simpson </h3>\n",
    "    </span>\n",
    "</ul>\n",
    "</div>"
   ]
  },
  {
   "cell_type": "markdown",
   "metadata": {},
   "source": [
    "# Introduction\n",
    "\n",
    "This goal for this lab is for you to use an LED to output a message in Morse code in order to demonstrate basic digital outputs."
   ]
  },
  {
   "cell_type": "markdown",
   "metadata": {},
   "source": [
    "# Before You Begin\n",
    "\n",
    "<img src=\"http://www.dropbox.com/s/fcucolyuzdjl80k/todo.jpg?raw=1\" width=\"10%\" align=\"left\">\n",
    "\n",
    "You need to first read through the [LED](h_LED.ipynb) notebook, which will also require some reading of the [GPIO notebook](h_GPIO.ipynb) to learn about creating outputs. You also need to build the circuits and run the code in the LED notebook to make sure everything is working correctly. To check your understanding, you'll need to answer the questions below before beginning (double click on the text to edit, then Ctrl+Enter to go back to display mode)."
   ]
  },
  {
   "cell_type": "markdown",
   "metadata": {},
   "source": [
    "## LEDs\n",
    "\n",
    "1. What do you always need to include in series with an LED and why?\n",
    "    * Your answer here\n",
    "2. What happens if you reverse the LED?\n",
    "    * Your answer here\n",
    "3. Write the line of code that turns on an LED.\n",
    "    * Your answer here"
   ]
  },
  {
   "cell_type": "markdown",
   "metadata": {},
   "source": [
    "# Lab Directions\n",
    "\n",
    "By this point, you should be able to control LEDs. Your goal is to build a circuit and write the code necessary to make an LED output a message in Morse code. There is a file in canvas called `morse.py` that contains a Python dictionary with the Morse code in it; download this file and use it in your code. Specific requirements are listed below.\n",
    "\n",
    "* Import Morse code and store in a dictionary variable.\n",
    "* Use a string variable for the message to be displayed near the top of the code cell. This should be something that we can modify to anything.\n",
    "* When the code cell is run, it should cause the LED to output a Morse code signal determined by the message string.\n",
    "* Use normal timings for your Morse code transmission signal. [This page](https://en.wikipedia.org/wiki/Morse_code#Timing) has a good explanation of the timings, but they are also explained here.\n",
    "    * Morse code consists of dots and dashes, where a dot is 1 unit of time and a dash is 3 units of time. 1 unit of time is often about 100ms.\n",
    "    * All signals should be separated by 1 unit of time (eg. \".-.\" should be on for 1 unit, off for 1 unit, on for 3 units, off for 1 unit, then on for 1 unit)\n",
    "    * All characters should be separated by 3 units of time\n",
    "    * All words should be separated by 7 units of time\n",
    "\n",
    "Some starter code has been written for you in the cell below, but it is far from complete; modify it however you like to run your circuit!\n",
    "\n",
    "Be sure to put comments throughout your code so we can understand what it does. Even if you can't figure out how to write the code for something, a comment explaining what you wanted will get partial credit!\n",
    "\n",
    "Extra credit:\n",
    "\n",
    "* Use a push button to pause the transmission of the signal.\n",
    "* Use another push button to input your own message and decode it.\n",
    "* Anything of your own creation that you feel is worthy of extra credit. Be sure to explain it for us!"
   ]
  },
  {
   "cell_type": "code",
   "execution_count": null,
   "metadata": {
    "collapsed": true
   },
   "outputs": [],
   "source": [
    "# Useful libraries for this lab!\n",
    "import RPi.GPIO as GPIO\n",
    "import time\n",
    "# You'll also want to import the Morse code here!\n",
    "\n",
    "# GPIO numbering as always\n",
    "GPIO.setmode(GPIO.BCM)\n",
    "\n",
    "# Setup for the LED\n",
    "leftLEDPin = 20;\n",
    "GPIO.setup(leftLEDPin, GPIO.OUT)\n",
    "\n",
    "# Use this varibale to store your message\n",
    "message = 'Hello world'\n",
    "\n",
    "try:\n",
    "    # loop forever\n",
    "    while True:\n",
    "        \n",
    "        # Flash the LED\n",
    "        GPIO.output(leftLEDPin, True)\n",
    "        time.sleep(1)\n",
    "        GPIO.output(leftLEDPin, False)\n",
    "        time.sleep(1)\n",
    "\n",
    "except(KeyboardInterrupt, SystemExit):\n",
    "    print(\"Interrupt!\")\n",
    "\n",
    "finally:\n",
    "    print(\"Exiting...\")\n",
    "    # It's best to cleanup the GPIO pins when done, you'll get errors if you don't\n",
    "    GPIO.cleanup();"
   ]
  },
  {
   "cell_type": "markdown",
   "metadata": {},
   "source": [
    "# Post Lab\n",
    "\n",
    "Once you complete the lab assignment, please answer the questions below. Please answer the opinion questions honestly, you'll get full credit even if you tell us you hated this lab.\n",
    "\n",
    "1. What elements of this lab did you find easy/challenging?\n",
    "    * Your answer here\n",
    "2. What did you like/dislike about this lab?\n",
    "    * Your answer here\n",
    "3. If you did anything worthy of extra credit, tell us about it here!\n",
    "    * Your answer here"
   ]
  },
  {
   "cell_type": "markdown",
   "metadata": {},
   "source": [
    "# Honor code\n",
    "Unless explicitly specified, labs are **individual exercises**. \n",
    "\n",
    "Your submission is subject to the **Mines Honor Code**:\n",
    "http://inside.mines.edu/~epoeter/_GW/CSMHonorCodeUndergradHandbook.pdf"
   ]
  }
 ],
 "metadata": {
  "kernelspec": {
   "display_name": "Python 3",
   "language": "python",
   "name": "python3"
  },
  "language_info": {
   "codemirror_mode": {
    "name": "ipython",
    "version": 3
   },
   "file_extension": ".py",
   "mimetype": "text/x-python",
   "name": "python",
   "nbconvert_exporter": "python",
   "pygments_lexer": "ipython3",
   "version": "3.6.5"
  }
 },
 "nbformat": 4,
 "nbformat_minor": 2
}
