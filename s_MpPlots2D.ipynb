{
 "cells": [
  {
   "cell_type": "markdown",
   "metadata": {},
   "source": [
    "<div style=\"float: left; width: 25%;\">\n",
    "<ul>\n",
    "<img src=\"http://www.minesnewsroom.com/sites/default/files/wysiwyg-editor/photos/CO-Mines-logo-stacked-4C-200x235w.png\" style=\"height: 115px;\">\n",
    "</ul>\n",
    "</div>\n",
    "\n",
    "<div style=\"float: right; width: 75%;\">\n",
    "<ul>\n",
    "    <h1> CSCI 250 - Building a Sensor System </h1>\n",
    "    <span style=\"color:red\">\n",
    "        <h2> 2D matplotlib plots </h2>\n",
    "    </span>\n",
    "</ul>\n",
    "</div>"
   ]
  },
  {
   "cell_type": "markdown",
   "metadata": {},
   "source": [
    "# Objective\n",
    "Introduce the matplotlib library and its use in 2D, i.e. for representing surfaces."
   ]
  },
  {
   "cell_type": "markdown",
   "metadata": {},
   "source": [
    "# Resources\n",
    "* **A Student's Guide to Python for Physical Modeling**\n",
    "* [Matplotlib](https://matplotlib.org) <br>\n",
    "<img src=\"https://matplotlib.org/_static/logo2.png\" width=\"15%\" align=\"left\">"
   ]
  },
  {
   "cell_type": "markdown",
   "metadata": {},
   "source": [
    "# Definition\n",
    "**Matplotlib** is a visualization package for **numpy** arrays. Matplotlib can be used directly in Jupyter notebooks by producing embedded figures. The **pyplot** module provides a MATLAB-like interface."
   ]
  },
  {
   "cell_type": "code",
   "execution_count": null,
   "metadata": {},
   "outputs": [],
   "source": [
    "import matplotlib.pyplot as plt"
   ]
  },
  {
   "cell_type": "code",
   "execution_count": null,
   "metadata": {},
   "outputs": [],
   "source": [
    "import numpy as np"
   ]
  },
  {
   "cell_type": "markdown",
   "metadata": {},
   "source": [
    "Consider the function:\n",
    "\n",
    "$z = \\sin\\left(\\dfrac{x}{5} + \\dfrac{y}{10}\\right) + \\cos\\left(\\dfrac{xy}{10} \\right)$.\n",
    "\n",
    "We will plot its 2D shape using various matplotlib functions."
   ]
  },
  {
   "cell_type": "code",
   "execution_count": null,
   "metadata": {},
   "outputs": [],
   "source": [
    "def f(x,y):\n",
    "    return np.sin( x/5 + y/10 ) + np.cos( x*y/10 )"
   ]
  },
  {
   "cell_type": "code",
   "execution_count": null,
   "metadata": {},
   "outputs": [],
   "source": [
    "x = np.linspace(-20, +20, 80)\n",
    "y = np.linspace(-10, +10, 40)\n",
    "\n",
    "X, Y = np.meshgrid(x, y)\n",
    "\n",
    "Z = f(X, Y)"
   ]
  },
  {
   "cell_type": "markdown",
   "metadata": {},
   "source": [
    "# plt.contour()\n",
    "Plot contour lines for a function z of coordinates x and y.\n",
    "\n",
    "`plt.contour([X, Y,] Z, [levels], **kwargs)`"
   ]
  },
  {
   "cell_type": "code",
   "execution_count": null,
   "metadata": {},
   "outputs": [],
   "source": [
    "plt.contour(X, Y, Z);"
   ]
  },
  {
   "cell_type": "code",
   "execution_count": null,
   "metadata": {
    "scrolled": true
   },
   "outputs": [],
   "source": [
    "# can specify the number of contours\n",
    "plt.contour(X, Y, Z, 25);"
   ]
  },
  {
   "cell_type": "code",
   "execution_count": null,
   "metadata": {},
   "outputs": [],
   "source": [
    "# can specify the contour values\n",
    "plt.contour(X, Y, Z, [-0.5,0.0,0.5]);"
   ]
  },
  {
   "cell_type": "code",
   "execution_count": null,
   "metadata": {},
   "outputs": [],
   "source": [
    "# can specify the color scheme\n",
    "plt.contour(X, Y, Z, colors='blue');"
   ]
  },
  {
   "cell_type": "code",
   "execution_count": null,
   "metadata": {
    "scrolled": true
   },
   "outputs": [],
   "source": [
    "# can specify tbe color map\n",
    "plt.contour(X, Y, Z, cmap='jet');"
   ]
  },
  {
   "cell_type": "markdown",
   "metadata": {},
   "source": [
    "# plt.colormaps()\n",
    "Provides a list of colormaps that can be set either with \n",
    "\n",
    "`cmap='colormapname'`\n",
    "\n",
    "or with \n",
    "\n",
    "`plt.set_cmap('colormapname')`"
   ]
  },
  {
   "cell_type": "code",
   "execution_count": null,
   "metadata": {},
   "outputs": [],
   "source": [
    "help(plt.colormaps)"
   ]
  },
  {
   "cell_type": "markdown",
   "metadata": {},
   "source": [
    "# plt.contourf()\n",
    "Plot filled contour lines for the function z of coordinates x and y.\n",
    "\n",
    "`plt.contourf([X, Y,] Z, [levels], **kwargs)`"
   ]
  },
  {
   "cell_type": "code",
   "execution_count": null,
   "metadata": {},
   "outputs": [],
   "source": [
    "plt.contourf(X, Y, Z);"
   ]
  },
  {
   "cell_type": "code",
   "execution_count": null,
   "metadata": {
    "scrolled": true
   },
   "outputs": [],
   "source": [
    "# can specify the number of levels\n",
    "plt.contourf(X, Y, Z, 50);"
   ]
  },
  {
   "cell_type": "code",
   "execution_count": null,
   "metadata": {},
   "outputs": [],
   "source": [
    "# can speficy the color map\n",
    "plt.contourf(X, Y, Z, 50, cmap='RdBu');"
   ]
  },
  {
   "cell_type": "code",
   "execution_count": null,
   "metadata": {},
   "outputs": [],
   "source": [
    "# alternative way of setting the colormap\n",
    "plt.contourf(X, Y, Z, 50)\n",
    "plt.set_cmap('gray')"
   ]
  },
  {
   "cell_type": "markdown",
   "metadata": {},
   "source": [
    "# plt.colorbar()\n",
    "Add a colorbar to a plot.\n",
    "\n",
    "`plt.colorbar(mappable=None, cax=None, ax=None, **kw)`"
   ]
  },
  {
   "cell_type": "code",
   "execution_count": null,
   "metadata": {
    "scrolled": false
   },
   "outputs": [],
   "source": [
    "plt.contourf(X, Y, Z, 50)\n",
    "plt.set_cmap('viridis')\n",
    "plt.colorbar();"
   ]
  },
  {
   "cell_type": "code",
   "execution_count": null,
   "metadata": {},
   "outputs": [],
   "source": [
    "plt.contourf(X, Y, Z, 50)\n",
    "plt.set_cmap('viridis')\n",
    "\n",
    "# can specify the scalebar ticks and label\n",
    "plt.colorbar(ticks=[-1.0,0,1.0],label='height');"
   ]
  },
  {
   "cell_type": "markdown",
   "metadata": {},
   "source": [
    "# plt.imshow()\n",
    "Display an image. Cannot specify coordinates - the function Z is treated as an image with all pixels of equal size and shape.\n",
    "\n",
    "`plt.imshow(X, cmap=None, norm=None, aspect=None, interpolation=None, alpha=None, vmin=None, vmax=None, origin=None, extent=None, shape=None, filternorm=1, filterrad=4.0, imlim=None, resample=None, url=None, hold=None, data=None, **kwargs)`"
   ]
  },
  {
   "cell_type": "code",
   "execution_count": null,
   "metadata": {
    "scrolled": true
   },
   "outputs": [],
   "source": [
    "plt.imshow(Z);"
   ]
  },
  {
   "cell_type": "code",
   "execution_count": null,
   "metadata": {
    "scrolled": true
   },
   "outputs": [],
   "source": [
    "# can turn off the axes\n",
    "plt.imshow(Z)\n",
    "plt.axis('off');"
   ]
  },
  {
   "cell_type": "code",
   "execution_count": null,
   "metadata": {
    "scrolled": true
   },
   "outputs": [],
   "source": [
    "# can change the aspect ratio\n",
    "plt.imshow(Z, aspect=0.5)\n",
    "plt.axis('off');"
   ]
  },
  {
   "cell_type": "code",
   "execution_count": null,
   "metadata": {},
   "outputs": [],
   "source": [
    "# can interpolate the values to depict a smooth function\n",
    "plt.imshow(Z, aspect=2.0, interpolation='bilinear')\n",
    "plt.axis('off');"
   ]
  },
  {
   "cell_type": "code",
   "execution_count": null,
   "metadata": {
    "scrolled": false
   },
   "outputs": [],
   "source": [
    "# can change the orientation of the vertical axis, e.g. origin in the lower left corner\n",
    "plt.imshow(Z, aspect=2.0, interpolation='bilinear', origin='lower');"
   ]
  },
  {
   "cell_type": "markdown",
   "metadata": {},
   "source": [
    "# plt.pcolormesh()\n",
    "Create a pseudocolor plot of a 2-D array.\n",
    "\n",
    "`pcolormesh([X, Y,] C, **kwargs)`"
   ]
  },
  {
   "cell_type": "code",
   "execution_count": null,
   "metadata": {
    "scrolled": false
   },
   "outputs": [],
   "source": [
    "plt.figure(figsize=(10,5))\n",
    "plt.pcolormesh(X,Y,Z);"
   ]
  },
  {
   "cell_type": "markdown",
   "metadata": {},
   "source": [
    "<img src=\"https://www.dropbox.com/s/wj23ce93pa9j8pe/demo.png?raw=1\" width=\"10%\" align=\"left\">\n",
    "# Exercise\n",
    "A 2D uncorrelated Gaussian function with center $c_x$,$c_y$ and standard deviations $\\sigma_x,\\sigma_y$ is defined by the formula:\n",
    "\n",
    "$\n",
    "g(x,y) = \\dfrac{1}{2\\pi\\sigma_x\\sigma_y} \n",
    "e^{ -\\dfrac{1}{2} \n",
    "\\left[\n",
    "\\left( \\dfrac{x-c_x}{\\sigma_x} \\right)^2 +\n",
    "\\left( \\dfrac{y-c_y}{\\sigma_y} \\right)^2\n",
    "\\right]\n",
    "}\n",
    "$\n",
    "\n",
    "A 2D plane wave function is defined by the formula:\n",
    "\n",
    "$\n",
    "w(x,y) = \\sin\\left( 2\\pi \\dfrac{x}{p_x} + 2\\pi \\dfrac{y}{p_y} \\right)\n",
    "$\n",
    "\n",
    "Generate 2D representations of the two functions. Plot $g$ and $w$ and the function $h$ defined by\n",
    "\n",
    "$h(x,y) = w(x,y) + 5*g(x,y)$."
   ]
  },
  {
   "cell_type": "code",
   "execution_count": null,
   "metadata": {},
   "outputs": [],
   "source": [
    "import matplotlib.pyplot as plt"
   ]
  },
  {
   "cell_type": "code",
   "execution_count": null,
   "metadata": {},
   "outputs": [],
   "source": [
    "xMin, xMax, dx = -2.0, +2.0, 0.01\n",
    "yMin, yMax, dy = -1.0, +1.0, 0.01\n",
    "\n",
    "x = np.arange(xMin, xMax + dx, dx)\n",
    "y = np.arange(yMin, yMax + dy, dy)\n",
    "\n",
    "X, Y = np.meshgrid(x, y)"
   ]
  },
  {
   "cell_type": "code",
   "execution_count": null,
   "metadata": {},
   "outputs": [],
   "source": [
    "# center\n",
    "cx = +0.5\n",
    "cy = -0.5\n",
    "\n",
    "# standard deviation\n",
    "sx = 1.00\n",
    "sy = 0.25\n",
    "\n",
    "# wave periods in x and y\n",
    "px = 1.0\n",
    "py = 1.0"
   ]
  },
  {
   "cell_type": "markdown",
   "metadata": {},
   "source": [
    "Generate functions:"
   ]
  },
  {
   "cell_type": "code",
   "execution_count": null,
   "metadata": {},
   "outputs": [],
   "source": [
    "G = pow(2*np.pi*sx*sy,-1) * np.exp(-0.5*pow((X-cx)/sx,2) ) * np.exp(-0.5*pow((Y-cy)/sy,2) )"
   ]
  },
  {
   "cell_type": "code",
   "execution_count": null,
   "metadata": {},
   "outputs": [],
   "source": [
    "W = np.sin( 2*np.pi*( X/px + Y/py) )"
   ]
  },
  {
   "cell_type": "markdown",
   "metadata": {},
   "source": [
    "Plot the functions:"
   ]
  },
  {
   "cell_type": "code",
   "execution_count": null,
   "metadata": {},
   "outputs": [],
   "source": [
    "plt.figure(figsize=(10,5))\n",
    "plt.contourf(X, Y, G, 50, cmap='jet', origin='lower');\n",
    "plt.axis('equal');\n",
    "plt.xlabel('x');\n",
    "plt.ylabel('y');"
   ]
  },
  {
   "cell_type": "code",
   "execution_count": null,
   "metadata": {},
   "outputs": [],
   "source": [
    "plt.figure(figsize=(10,5))\n",
    "plt.contourf(X, Y, W, 50, cmap='jet', origin='lower');\n",
    "plt.axis('equal');\n",
    "plt.xlabel('x');\n",
    "plt.ylabel('y');"
   ]
  },
  {
   "cell_type": "markdown",
   "metadata": {},
   "source": [
    "Generate sum of the functions."
   ]
  },
  {
   "cell_type": "code",
   "execution_count": null,
   "metadata": {},
   "outputs": [],
   "source": [
    "H = W - 5*G"
   ]
  },
  {
   "cell_type": "code",
   "execution_count": null,
   "metadata": {},
   "outputs": [],
   "source": [
    "plt.figure(figsize=(10,5))\n",
    "plt.contourf(X, Y, H, 50, cmap='jet', origin='lower');\n",
    "plt.axis('equal');\n",
    "plt.xlabel('x');\n",
    "plt.ylabel('y');"
   ]
  },
  {
   "cell_type": "markdown",
   "metadata": {},
   "source": [
    "<img src=\"https://www.dropbox.com/s/wj23ce93pa9j8pe/demo.png?raw=1\" width=\"10%\" align=\"left\">\n",
    "# Exercise\n",
    "\n",
    "Consider the **hyperbolic paraboloid** function:\n",
    "\n",
    "$z=x^2-y^2$\n",
    "\n",
    "Create several plots of the hyperbolic paraboloid function. Use correct aspect ratio and label all axes."
   ]
  },
  {
   "cell_type": "code",
   "execution_count": null,
   "metadata": {},
   "outputs": [],
   "source": [
    "# Write your code here!"
   ]
  }
 ],
 "metadata": {
  "kernelspec": {
   "display_name": "Python 3",
   "language": "python",
   "name": "python3"
  },
  "language_info": {
   "codemirror_mode": {
    "name": "ipython",
    "version": 3
   },
   "file_extension": ".py",
   "mimetype": "text/x-python",
   "name": "python",
   "nbconvert_exporter": "python",
   "pygments_lexer": "ipython3",
   "version": "3.6.5"
  }
 },
 "nbformat": 4,
 "nbformat_minor": 2
}
