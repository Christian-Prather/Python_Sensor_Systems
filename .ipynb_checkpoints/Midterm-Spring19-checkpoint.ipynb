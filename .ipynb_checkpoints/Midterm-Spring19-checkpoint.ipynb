{
 "cells": [
  {
   "cell_type": "markdown",
   "metadata": {},
   "source": [
    "<div style=\"float: left; width: 25%;\">\n",
    "<ul>\n",
    "<img src=\"http://www.minesnewsroom.com/sites/default/files/wysiwyg-editor/photos/CO-Mines-logo-stacked-4C-200x235w.png\" style=\"height: 115px;\">\n",
    "</ul>\n",
    "</div>\n",
    "\n",
    "<div style=\"float: right; width: 75%;\">\n",
    "<ul>\n",
    "    <h1> CSCI 250 - Building a Sensor System </h1>\n",
    "    <span style=\"color:red\">\n",
    "        <h2> Midterm Exam: Spring 2019 </h2>\n",
    "        <h3> Your Name:  </h3>\n",
    "    </span>\n",
    "</ul>\n",
    "</div>"
   ]
  },
  {
   "cell_type": "markdown",
   "metadata": {},
   "source": [
    "# Honor Code acknowledgment\n",
    "This is an **individual exercise**, and your submission is subject to the [**Mines Honor Code**](http://inside.mines.edu/~epoeter/_GW/CSMHonorCodeUndergradHandbook.pdf).\n",
    "\n",
    "<span class=\"burk\">**Type your name** in this cell as an electronic signature before turning-in the exam to acknowledge the Honor Code. Your submission will not receive credit without your name here.</span>\n",
    "\n",
    "- type your name here"
   ]
  },
  {
   "cell_type": "markdown",
   "metadata": {},
   "source": [
    "# Introduction\n",
    "\n",
    "Your goal is to convert a text file into a song whose play is triggered by the presense of a magnetic field. This midterm examination should take no more than 3-6 hours and has you design a simple curcuit and builds upon the Python concepts we have already practiced in class (up to but not including OOP). You may use course materials for reference and guidance.\n",
    "\n",
    "**Overview**:\n",
    "* Read in the song file (song.txt) that includes two colums of data for pitch and duration.\n",
    "* When a magnetic field is detected (Reed Switch closed), send those notes in one at a time to the buzz function that will play music on your Piezo speaker and flash the LED to the music.\n",
    "* Print a message to the screen and log the message with a timestamp to a logger.txt file (be creative, hint: look up f=open(fileName,'a') and f.write(logEntry)).\n",
    "* When the program is terminated (stopped), generate and show a plot of the pitch values.\n",
    "\n",
    "**Learning objectives/concepts covered**:\n",
    "- Comments\n",
    "- Variables\n",
    "- Libraries\n",
    "- Functions\n",
    "- 2D array or list, slicing\n",
    "- Loops and Conditionals\n",
    "- File IO\n",
    "- Plotting\n",
    "\n",
    "**Specific requirements**\n",
    "\n",
    "* Construct on a breadboard the following that are all included in your kit (NOTE: I will be running your code on my curcuit, so it is critial that you use EXACTLY the following pin Numbers for testing/grading):\n",
    "    * Reed switch (setup and test with: h_ReedSwitch.ipynb) - GPIO PIN 27\n",
    "    * Square magnet (only used for triggering the Reed Switch)\n",
    "    * Piezo Speaker (setup and test with: h_Buzzer.ipynb) - GPIO PIN 25 \n",
    "    * LED - GPIO PIN 21\n",
    "\n",
    "* Be sure to practice incremental coding to accomplish the following requirements:\n",
    "    * Use variables where appropriate (e.g., no hard coding of pin numbers, filenames, booleans)\n",
    "    * Use a a minimum one while loop, for loop, conditional (if/else)\n",
    "    * Plot should have title, axis labels, and a legend (if appropirate)\n",
    "    \n",
    "* Create the following functions (at a minimum) to organize your code: \n",
    "    * setupPins() - a function to setup the input/output pins\n",
    "    * doFileIO(read=True) - a function to read in the file song.txt that returns an array/list if incoming boolean is true, otherwise, logs a message and a timestamp to an output file \"logger.txt\"\n",
    "    * buzz(pitch, duration) - a function for playing the song on the Piezo Speaker and flashing the LED to the music (working stub provided)\n",
    "    * plotData() - a function for plotting the data\n",
    "\n",
    "\n",
    "<img src=\"http://www.dropbox.com/s/fcucolyuzdjl80k/todo.jpg?raw=1\" width=\"10%\" align=\"left\">\n",
    "Write your code in the cell below. We haven't given you any starter code for this one (except the partial buzz function), so you'll have to write everything from scratch. Be sure to put comments throughout your code so we can understand what it does. Even if you can't figure out how to write the code for something, a comment explaining what you wanted will get partial credit!"
   ]
  },
  {
   "cell_type": "code",
   "execution_count": null,
   "metadata": {},
   "outputs": [],
   "source": [
    "#Function for playing the song\n",
    "def buzz(pitch, duration):\n",
    "    '''Uses the incoming notes, one at a time to play the song and flashes LED'''\n",
    "    period = 1.0/pitch\n",
    "    delay = period / 2\n",
    "    cycles = int(duration * pitch)\n",
    "    \n",
    "    # Loop until we're done\n",
    "    for i in range(cycles):\n",
    "        # Create a swaure wave by outputting high, waiting, outputting low, waiting, then repeating\n",
    "        GPIO.output(buzzerPin, True)\n",
    "        time.sleep(delay)\n",
    "        GPIO.output(buzzerPin, False)\n",
    "        time.sleep(delay)\n",
    "    time.sleep(duration * 0.3)\n",
    "\n",
    "try:\n",
    "    \n",
    "\n",
    "except(KeyboardInterrupt, SystemExit):\n",
    "    print(\"Interrupt!\")\n",
    "    \n",
    "finally:\n",
    "    print(\"Done!\")\n",
    "    GPIO.cleanup()"
   ]
  },
  {
   "cell_type": "markdown",
   "metadata": {},
   "source": [
    "# Wrap-up AND Submission\n",
    "Before you submit, please remove any test code that you created; your submission should only include code that you want to be graded. We recommend that you restart the kernel and test your code once more to ensure everything is working as expected.\n",
    "\n",
    "Once you complete the assignment, please answer the following questions. \n",
    "\n",
    "1. What hardware elements of this exercise did you find easy/challenging?\n",
    "    \n",
    "2. What software elements of this exercise did you find easy/challenging?\n",
    "\n",
    "3. How long did you spend on this assignment? \n",
    "\n",
    "# Submit to Canvas this notebook file and a photo or video of your circuit.\n",
    "    "
   ]
  }
 ],
 "metadata": {
  "anaconda-cloud": {},
  "kernelspec": {
   "display_name": "Python 3",
   "language": "python",
   "name": "python3"
  },
  "language_info": {
   "codemirror_mode": {
    "name": "ipython",
    "version": 3
   },
   "file_extension": ".py",
   "mimetype": "text/x-python",
   "name": "python",
   "nbconvert_exporter": "python",
   "pygments_lexer": "ipython3",
   "version": "3.6.5"
  },
  "varInspector": {
   "cols": {
    "lenName": 16,
    "lenType": 16,
    "lenVar": 40
   },
   "kernels_config": {
    "python": {
     "delete_cmd_postfix": "",
     "delete_cmd_prefix": "del ",
     "library": "var_list.py",
     "varRefreshCmd": "print(var_dic_list())"
    },
    "r": {
     "delete_cmd_postfix": ") ",
     "delete_cmd_prefix": "rm(",
     "library": "var_list.r",
     "varRefreshCmd": "cat(var_dic_list()) "
    }
   },
   "types_to_exclude": [
    "module",
    "function",
    "builtin_function_or_method",
    "instance",
    "_Feature"
   ],
   "window_display": false
  }
 },
 "nbformat": 4,
 "nbformat_minor": 2
}
