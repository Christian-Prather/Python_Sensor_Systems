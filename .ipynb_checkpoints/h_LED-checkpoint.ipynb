{
 "cells": [
  {
   "cell_type": "markdown",
   "metadata": {},
   "source": [
    "<div style=\"float: left; width: 25%;\">\n",
    "<ul>\n",
    "<img src=\"http://www.minesnewsroom.com/sites/default/files/wysiwyg-editor/photos/CO-Mines-logo-stacked-4C-200x235w.png\" style=\"height: 115px;\">\n",
    "</ul>\n",
    "</div>\n",
    "\n",
    "<div style=\"float: right; width: 75%;\">\n",
    "<ul>\n",
    "    <h1> CSCI 250 - Building a Sensor System </h1>\n",
    "    <span style=\"color:red\">\n",
    "        <h2> Light Emitting Diode </h2>\n",
    "    </span>\n",
    "</ul>\n",
    "</div>"
   ]
  },
  {
   "cell_type": "markdown",
   "metadata": {},
   "source": [
    "# Introduction\n",
    "\n",
    "<img src=\"https://cdn.sparkfun.com//assets/parts/8/6/5/6/12062-01.jpg\" width=\"30%\" align=\"right\">\n",
    "\n",
    "LEDs or [light emitting diodes](https://en.wikipedia.org/wiki/Light-emitting_diode) are semiconductor devices that produce light when a voltage is applied to them. They are relatively simple output devices and the Sparkfun sensor kit comes with LEDs in a variety of colors, including red, green, blue, yellow, and infrared (IR)."
   ]
  },
  {
   "cell_type": "markdown",
   "metadata": {},
   "source": [
    "# Wiring\n",
    "\n",
    "Each LED can operate under a range of voltages. Generally speaking, higher frequencies require higher voltage, but that's beyond the scope of this class. The important thing to know is that these are maximum voltages that one should apply to the LEDs; giving them more voltage increases the current draw, which heats up the LED and can damage it. Most of the voltages for safe LED operation are below 3.3V (the voltage that the RPi uses), **so we need to include a current-limiting resistor in series with the LEDs**. One could calculate the optimal resistance for this, but in our case a single 330 Ohm resistor that came with the kit will do fine. \n",
    "\n",
    "We can flip the order of the LED and resistor, however LEDs only operate in one direction. Typically **the longer leg is connected to high voltage**. Reversing the LED will not damage it, it will instead just not produce light.\n",
    "\n",
    "If we want an LED to always be on, we can connect it between the 3.3V and GND pins of the wedge, but that's not very useful. Instead of the 3.3V pin, we can use one of the GPIO pins to control when the LED is on/off. \n",
    "\n",
    "Here is a wiring example:\n",
    "\n",
    "<img src=\"https://www.dropbox.com/s/069zlqfbuc4q7z3/wiring_led.PNG?raw=1\" width=\"50%\" align=\"left\">\n",
    "\n",
    "<img src=\"https://www.dropbox.com/s/n48y1h6rrqy01hn/circuit_led.jpg?raw=1\" width=\"50%\" align=\"right\">"
   ]
  },
  {
   "cell_type": "markdown",
   "metadata": {},
   "source": [
    "# Programming\n",
    "\n",
    "In order to control the LED, we first need to configure the GPIO pin to output mode. This requires the usual setup of importing the GPIO library and setting it to use the GPIO numbering."
   ]
  },
  {
   "cell_type": "code",
   "execution_count": 1,
   "metadata": {
    "collapsed": true
   },
   "outputs": [],
   "source": [
    "# Need the GPIO library\n",
    "import RPi.GPIO as GPIO\n",
    "\n",
    "# Use GPIO numbering\n",
    "GPIO.setmode(GPIO.BCM)\n",
    "\n",
    "# Always a good idea to assign a variable for the pin numer\n",
    "# You can change the number if your LED is connected to a different pin\n",
    "ledPin = 27\n",
    "\n",
    "# Set the GPIO pin to output mode!\n",
    "GPIO.setup(ledPin, GPIO.OUT)"
   ]
  },
  {
   "cell_type": "markdown",
   "metadata": {},
   "source": [
    "Assuming you had no errors, the pin should now be ready to turn on your LED. The code in the cell below will set the voltage of GPIO pin to 3.3V, causing current to flow through the LED and produce photons!"
   ]
  },
  {
   "cell_type": "code",
   "execution_count": 7,
   "metadata": {
    "collapsed": true,
    "scrolled": true
   },
   "outputs": [],
   "source": [
    "# Instead of True, you can use 1 or GPIO.HIGH\n",
    "GPIO.output(ledPin, True)"
   ]
  },
  {
   "cell_type": "code",
   "execution_count": 8,
   "metadata": {
    "collapsed": true
   },
   "outputs": [],
   "source": [
    "# False, 0, and GPIO.LOW will make the LED turn off\n",
    "GPIO.output(ledPin, False)"
   ]
  },
  {
   "cell_type": "markdown",
   "metadata": {},
   "source": [
    "If everything went well, the LED should now be producing light. We can turn the LED off by changing \"True\" in the previous code cell to \"False\"."
   ]
  },
  {
   "cell_type": "markdown",
   "metadata": {},
   "source": [
    "We can set the LED to alternate between on and off states:"
   ]
  },
  {
   "cell_type": "code",
   "execution_count": 9,
   "metadata": {
    "collapsed": true
   },
   "outputs": [],
   "source": [
    "import time\n",
    "\n",
    "for i in range(10):\n",
    "    \n",
    "    GPIO.output(ledPin, True)   # turn on\n",
    "    time.sleep(1)               # wait 1s\n",
    "    GPIO.output(ledPin, False)  # turn off\n",
    "    time.sleep(1)               # wait 1s, then repeat"
   ]
  },
  {
   "cell_type": "markdown",
   "metadata": {},
   "source": [
    "Finally, when done we can clean-up and shutdown GPIO."
   ]
  },
  {
   "cell_type": "code",
   "execution_count": null,
   "metadata": {
    "collapsed": true
   },
   "outputs": [],
   "source": [
    "# clean-up when done\n",
    "GPIO.cleanup()"
   ]
  },
  {
   "cell_type": "markdown",
   "metadata": {},
   "source": [
    "# Debugging\n",
    "\n",
    "Useful debugging tips for any time during the semester!\n",
    "* **I get error messages when I run my code**.\n",
    "    * There's probably/likely an issue with the code, not with the electronic components. Read the error message and try to understand what it is telling. If you're not sure, ask for help.\n",
    "    \n",
    "* **The LED never turns on**.\n",
    "    * It is possible that you have wired it incorrectly or that there's a bug in the code. Double check both of these for any errors first. Remember that LEDs are diodes, so they only operate in one direction. The longer leg is the positive side. Also make sure the resistor has good connections, as the legs are a bit thin.\n",
    "    * If you can't find any errors, go back to basics. Recreate the circuit and run the code from this notebook to see if your LED still works. If it is not working, try another LED that you know is working. If the new LED works, then the old LED is probably broken. If neither works, you may be having another issue - ask for help."
   ]
  }
 ],
 "metadata": {
  "anaconda-cloud": {},
  "kernelspec": {
   "display_name": "Python 3",
   "language": "python",
   "name": "python3"
  },
  "language_info": {
   "codemirror_mode": {
    "name": "ipython",
    "version": 3
   },
   "file_extension": ".py",
   "mimetype": "text/x-python",
   "name": "python",
   "nbconvert_exporter": "python",
   "pygments_lexer": "ipython3",
   "version": "3.6.5"
  }
 },
 "nbformat": 4,
 "nbformat_minor": 2
}
