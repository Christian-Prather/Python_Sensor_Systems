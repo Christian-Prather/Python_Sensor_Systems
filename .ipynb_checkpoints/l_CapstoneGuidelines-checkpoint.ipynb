{
 "cells": [
  {
   "cell_type": "markdown",
   "metadata": {},
   "source": [
    "<div style=\"float: left; width: 25%;\">\n",
    "<ul>\n",
    "<img src=\"http://www.minesnewsroom.com/sites/default/files/wysiwyg-editor/photos/CO-Mines-logo-stacked-4C-200x235w.png\" style=\"height: 115px;\">\n",
    "</ul>\n",
    "</div>\n",
    "\n",
    "<div style=\"float: right; width: 75%;\">\n",
    "<ul>\n",
    "    <h1> CSCI 250 - Building a Sensor System </h1>\n",
    "    <span style=\"color:red\">\n",
    "        <h2> Capstone project guidelines</h2>\n",
    "    </span>\n",
    "</ul>\n",
    "</div>"
   ]
  },
  {
   "cell_type": "markdown",
   "metadata": {},
   "source": [
    "# Introduction\n",
    "\n",
    "This is a hands-on class, and therefore its final act will not be a final exam, but a capstone project. This will give you an opportunity to apply concepts and techniques learned in class to a project of your choice. We are setting-up a few rules in order to facilitate evaluation consistency, but otherwise we would like to see your ideas at work. We hope that you will turn this project into something practical and of interest to you, rather than just something you do for credit.\n",
    "\n",
    "The scope of possible projects is broad and open-ended. We have listed some example projects at the end of this notebook to provide some inspiration. If you need or would like to use additional sensors that are not available in the class kit, we can order parts from [SparkFun](https://www.sparkfun.com/). Please let us know asap - be prepared to make the case why that sensor and its costs are justified. "
   ]
  },
  {
   "cell_type": "markdown",
   "metadata": {},
   "source": [
    "# Rules\n",
    "\n",
    "### Work in teams of 2-4 students.\n",
    "**Each group should have a leader who will coordinate activities and submit progress reports.**\n",
    "\n",
    "### Each project should include the following components:\n",
    "> Make use of **at least 3 different sensors**.\n",
    "* **Collect** and store data (or status info) in external files.\n",
    "* **Process** data using NumPy arrays and efficient (vectorized, concurrent) calculations.\n",
    "* **Display** data in the final report to demonstrate the project functionality.\n",
    "* **Interpret** the project data and provide a discussion on the project outcome/success.\n",
    "    \n",
    "**Speak with us early if you would like to pursue a cool project that may not meet all stated requirements.**\n",
    "\n",
    "### Conclude the project with a group **report** in the form of a Jupyter notebook.\n",
    "\n",
    "> Notebooks will be graded on the following criteria:\n",
    "* **Complete** - Does the report explain what you did and how?\n",
    "* **Correct** - Is your (hardware and software) implementation correct?\n",
    "* **Clear** - Is your (written and oral) presentation clear and easy to understand?\n",
    "* **Concise** - Did the report contain only relevant information for the project?\n",
    "        \n",
    "**The report should include a statement of the contribution made by each team member.**\n",
    "\n",
    "###  Prepare a short group video demonstrating the project features and functionality.\n",
    "> We will play the videos in class at the end of the semester for peer review.\n",
    "* The videos should be uploaded to a public site (YouTube, Google Drive, Dropbox, etc.).\n",
    "* A link to the video should be included in the notebook. Do not upload the video through Canvas.\n",
    "* The video should be no longer than 5min.\n",
    "* Videos will be evaluated on the 4 C's listed for the reports.\n",
    "\n",
    "**All team members should be featured in and contribute to the project video presentation.**"
   ]
  },
  {
   "cell_type": "markdown",
   "metadata": {},
   "source": [
    "# Timeline\n",
    "\n",
    "### Apr. 2 - Project proposal\n",
    "* Provide the title and description of the project.\n",
    "* List the names and roles of all team members.\n",
    "* State how the project requirements will be met.\n",
    "* Give the project timeline and milestones.\n",
    "* List hardware elements you intend to use (or acquire).\n",
    "\n",
    "**If we feel that your project does not sufficiently meet the requirements, we will ask you to prepare a revised proposal**\n",
    "\n",
    "### Apr. 11 - First progress update\n",
    "* Explain how much progress you have made on your project.\n",
    "* Discuss if you are you ahead or behind your original timeline.\n",
    "* List problems and the steps you are taking to address them.\n",
    "    \n",
    "### Apr. 18 - Second progress update\n",
    "* Explain how much progress you have made on your project.\n",
    "* Discuss if you are you ahead or behind your original timeline.\n",
    "* List problems and the steps you are taking to address them.\n",
    "    \n",
    "### Apr. 29 - Final reports due\n",
    "* Submit the final project notebook.\n",
    "    \n",
    "### Apr. 29 - Presentation video due\n",
    "* Submit the link to the presentation video.\n",
    "    \n",
    "### Apr. 30 and May 2 - Final presentations\n",
    "* All videos will be played in class.\n",
    "* All students will provide peer review."
   ]
  },
  {
   "cell_type": "markdown",
   "metadata": {},
   "source": [
    "# Examples\n",
    "\n",
    "These following examples do not necessarily meet all the requirements listed above. We are including them here for your inspiration. There are plenty of project ideas are available on website like [this one](https://www.hackster.io/raspberry-pi/projects).\n",
    "\n",
    "### [Simon Says](https://grantwinney.com/creating-a-simon-game-clone-on-the-raspberry-pi/)\n",
    "\n",
    "<img src=\"https://target.scene7.com/is/image/Target/GUEST_4ab95e31-140f-4dba-a1c5-5728861d16bb?wid=488&hei=488&fmt=pjpeg\" width=\"40%\"/>\n",
    "\n",
    "### [Line following robot](https://circuitdigest.com/microcontroller-projects/raspberry-pi-line-follower-robot)\n",
    "<img src=\"https://circuitdigest.com/sites/default/files/projectimage_mic/Raspberry-pi-line-follower-robot.jpg\" width=\"40%\" />\n",
    "\n",
    "### [Maze solving robot](https://www.zagrosrobotics.com/shop/custom.aspx?recid=69)\n",
    "<img src=\"https://img.youtube.com/vi/JFrexM1UKO4/0.jpg\" width=\"40%\" />"
   ]
  },
  {
   "cell_type": "code",
   "execution_count": null,
   "metadata": {
    "collapsed": true
   },
   "outputs": [],
   "source": []
  }
 ],
 "metadata": {
  "anaconda-cloud": {},
  "kernelspec": {
   "display_name": "Python 3",
   "language": "python",
   "name": "python3"
  },
  "language_info": {
   "codemirror_mode": {
    "name": "ipython",
    "version": 3
   },
   "file_extension": ".py",
   "mimetype": "text/x-python",
   "name": "python",
   "nbconvert_exporter": "python",
   "pygments_lexer": "ipython3",
   "version": "3.6.5"
  },
  "varInspector": {
   "cols": {
    "lenName": 16,
    "lenType": 16,
    "lenVar": 40
   },
   "kernels_config": {
    "python": {
     "delete_cmd_postfix": "",
     "delete_cmd_prefix": "del ",
     "library": "var_list.py",
     "varRefreshCmd": "print(var_dic_list())"
    },
    "r": {
     "delete_cmd_postfix": ") ",
     "delete_cmd_prefix": "rm(",
     "library": "var_list.r",
     "varRefreshCmd": "cat(var_dic_list()) "
    }
   },
   "types_to_exclude": [
    "module",
    "function",
    "builtin_function_or_method",
    "instance",
    "_Feature"
   ],
   "window_display": false
  }
 },
 "nbformat": 4,
 "nbformat_minor": 2
}
