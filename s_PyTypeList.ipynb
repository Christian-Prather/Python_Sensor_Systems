{
 "cells": [
  {
   "cell_type": "markdown",
   "metadata": {},
   "source": [
    "<div style=\"float: left; width: 25%;\">\n",
    "<ul>\n",
    "<img src=\"http://www.minesnewsroom.com/sites/default/files/wysiwyg-editor/photos/CO-Mines-logo-stacked-4C-200x235w.png\" style=\"height: 115px;\">\n",
    "</ul>\n",
    "</div>\n",
    "\n",
    "<div style=\"float: right; width: 75%;\">\n",
    "<ul>\n",
    "    <h1> CSCI 250 - Building a Sensor System </h1>\n",
    "    <span style=\"color:red\">\n",
    "        <h2> Python type: list </h2>\n",
    "    </span>\n",
    "</ul>\n",
    "</div>"
   ]
  },
  {
   "cell_type": "markdown",
   "metadata": {},
   "source": [
    "# Objective\n",
    "* introduce the **list** data type\n",
    "* discuss methods for interaction with lists"
   ]
  },
  {
   "cell_type": "markdown",
   "metadata": {},
   "source": [
    "# Resources\n",
    "\n",
    "* [Python introduction](https://docs.python.org/3/tutorial/introduction.html#lists)\n",
    "* [Programiz Python tutorial](https://www.programiz.com/python-programming/list)"
   ]
  },
  {
   "cell_type": "markdown",
   "metadata": {},
   "source": [
    "# Definition \n",
    "A **list** is a compound data type consisting of comma-separated items between square brackets. Lists can contain items of different types (usually all items have the same type). Lists are usually employed to store multiple items of the same kind."
   ]
  },
  {
   "cell_type": "code",
   "execution_count": null,
   "metadata": {
    "scrolled": true
   },
   "outputs": [],
   "source": [
    "l = ['a',2,'b',3.1,12.1 + 0.2j,'blah',[4,5,6],\"\"\" Python is the \\\"most powerful language you can still read\\\".\n",
    "\n",
    "- Paul Dubois \"\"\",'b']\n",
    "\n",
    "print(  id(l))\n",
    "print(type(l))\n",
    "print(     l )"
   ]
  },
  {
   "cell_type": "markdown",
   "metadata": {},
   "source": [
    "### indexing\n",
    "We can retrieve a specific element from a list by **indexing**. The index starts at 0."
   ]
  },
  {
   "cell_type": "code",
   "execution_count": null,
   "metadata": {},
   "outputs": [],
   "source": [
    "print( l[1] )\n",
    "print( l[6] ) \n",
    "print( l[len(l)-4] )\n",
    "print( l[-3] )"
   ]
  },
  {
   "cell_type": "markdown",
   "metadata": {},
   "source": [
    "### slicing\n",
    "We can retrieve a group of specific elements from a list by **slicing**."
   ]
  },
  {
   "cell_type": "code",
   "execution_count": null,
   "metadata": {},
   "outputs": [],
   "source": [
    "print( l[1:3] )\n",
    "print( l[-4:-1] )"
   ]
  },
  {
   "cell_type": "markdown",
   "metadata": {},
   "source": [
    "### mutability\n",
    "Lists are **mutable** - we can change individual elements in the list. Lists have variable length, and thus occupy more space in memory."
   ]
  },
  {
   "cell_type": "code",
   "execution_count": null,
   "metadata": {
    "scrolled": true
   },
   "outputs": [],
   "source": [
    "print( l )\n",
    "print('size of l =',l.__sizeof__())\n",
    "\n",
    "l[5] = 'halb'\n",
    "\n",
    "print( l )"
   ]
  },
  {
   "cell_type": "code",
   "execution_count": null,
   "metadata": {},
   "outputs": [],
   "source": [
    "# remove item a list\n",
    "l.pop(-2)\n",
    "print( l )"
   ]
  },
  {
   "cell_type": "markdown",
   "metadata": {},
   "source": [
    "### unpacking\n",
    "Unpacking allows access to multiple variables in a single operation."
   ]
  },
  {
   "cell_type": "code",
   "execution_count": null,
   "metadata": {
    "scrolled": false
   },
   "outputs": [],
   "source": [
    "l = ['a','b','c']\n",
    "x,y,z = l\n",
    "print(x,y,z)"
   ]
  },
  {
   "cell_type": "markdown",
   "metadata": {},
   "source": [
    "### nesting\n",
    "Lists can be nested."
   ]
  },
  {
   "cell_type": "code",
   "execution_count": null,
   "metadata": {},
   "outputs": [],
   "source": [
    "l = [[2,3], [4,5], [6,7]]\n",
    "print( l )\n",
    "print( l[2] )"
   ]
  },
  {
   "cell_type": "markdown",
   "metadata": {},
   "source": [
    "### specific methods\n",
    "List **methods** can be accessed by typing the list variable name, followed by a dot, followed by the **TAB** key. The name of the method followed by **?** returns the associated selfdoc."
   ]
  },
  {
   "cell_type": "markdown",
   "metadata": {},
   "source": [
    "<img src=\"http://www.dropbox.com/s/fcucolyuzdjl80k/todo.jpg?raw=1\" width=\"10%\" align=\"left\">\n",
    "Explain the meaning and explore the use of **specific methods** associated with type **list**.\n",
    "\n",
    "Add comments capturing the purpose and usage for the methods listed, and include several other examples demonstrating different features."
   ]
  },
  {
   "cell_type": "code",
   "execution_count": null,
   "metadata": {},
   "outputs": [],
   "source": [
    "# create a list from a string\n",
    "l = 'Colorado School of Mines'.split()"
   ]
  },
  {
   "cell_type": "code",
   "execution_count": null,
   "metadata": {
    "scrolled": true
   },
   "outputs": [],
   "source": [
    "l.append('!')\n",
    "print( l )"
   ]
  },
  {
   "cell_type": "code",
   "execution_count": null,
   "metadata": {},
   "outputs": [],
   "source": [
    "u = 'Golden, CO'.split()\n",
    "l.extend(u)\n",
    "print( l )"
   ]
  },
  {
   "cell_type": "code",
   "execution_count": null,
   "metadata": {
    "scrolled": true
   },
   "outputs": [],
   "source": [
    "l.insert(5,'in')\n",
    "print( l )"
   ]
  },
  {
   "cell_type": "code",
   "execution_count": null,
   "metadata": {
    "scrolled": true
   },
   "outputs": [],
   "source": [
    "l.remove('!')\n",
    "print( l )"
   ]
  },
  {
   "cell_type": "code",
   "execution_count": null,
   "metadata": {
    "scrolled": true
   },
   "outputs": [],
   "source": [
    "x = l.pop(5)\n",
    "print( x )\n",
    "print( l )"
   ]
  },
  {
   "cell_type": "code",
   "execution_count": null,
   "metadata": {
    "scrolled": true
   },
   "outputs": [],
   "source": [
    "l.index('in')"
   ]
  },
  {
   "cell_type": "code",
   "execution_count": null,
   "metadata": {
    "scrolled": true
   },
   "outputs": [],
   "source": [
    "l.count('of')"
   ]
  },
  {
   "cell_type": "code",
   "execution_count": null,
   "metadata": {
    "scrolled": true
   },
   "outputs": [],
   "source": [
    "print(l)\n",
    "l.sort()\n",
    "print(l)\n",
    "l.reverse()\n",
    "print(l)"
   ]
  },
  {
   "cell_type": "code",
   "execution_count": null,
   "metadata": {},
   "outputs": [],
   "source": [
    "print( l )\n",
    "a = l\n",
    "b = l.copy()\n",
    "\n",
    "a.append('a')\n",
    "print( l )\n",
    "print( a )\n",
    "\n",
    "b.append('b')\n",
    "print( l )\n",
    "print( b )"
   ]
  },
  {
   "cell_type": "code",
   "execution_count": null,
   "metadata": {},
   "outputs": [],
   "source": [
    "l.clear()\n",
    "print( l )"
   ]
  },
  {
   "cell_type": "markdown",
   "metadata": {},
   "source": [
    "### built-in methods\n",
    "\n",
    "Functions and types that are always available to the Python interpreter:\n",
    "\n",
    "https://docs.python.org/3.3/library/functions.html"
   ]
  },
  {
   "cell_type": "markdown",
   "metadata": {},
   "source": [
    "<img src=\"http://www.dropbox.com/s/fcucolyuzdjl80k/todo.jpg?raw=1\" width=\"10%\" align=\"left\">\n",
    "Explain the meaning and explore the use of **built-in methods** usable on type **list**.\n",
    "\n",
    "Add comments capturing the purpose and usage for the methods listed, and include several other examples demonstrating different features."
   ]
  },
  {
   "cell_type": "code",
   "execution_count": null,
   "metadata": {},
   "outputs": [],
   "source": [
    "l = [2,3,4,1,2,6,1,0,2]"
   ]
  },
  {
   "cell_type": "code",
   "execution_count": null,
   "metadata": {},
   "outputs": [],
   "source": [
    "all(l)"
   ]
  },
  {
   "cell_type": "code",
   "execution_count": null,
   "metadata": {},
   "outputs": [],
   "source": [
    "any(l)"
   ]
  },
  {
   "cell_type": "code",
   "execution_count": null,
   "metadata": {},
   "outputs": [],
   "source": [
    "list(enumerate(l))"
   ]
  },
  {
   "cell_type": "code",
   "execution_count": null,
   "metadata": {},
   "outputs": [],
   "source": [
    "len(l)"
   ]
  },
  {
   "cell_type": "code",
   "execution_count": null,
   "metadata": {},
   "outputs": [],
   "source": [
    "min(l)"
   ]
  },
  {
   "cell_type": "code",
   "execution_count": null,
   "metadata": {},
   "outputs": [],
   "source": [
    "max(l)"
   ]
  },
  {
   "cell_type": "code",
   "execution_count": null,
   "metadata": {},
   "outputs": [],
   "source": [
    "print(l)"
   ]
  },
  {
   "cell_type": "code",
   "execution_count": null,
   "metadata": {
    "scrolled": true
   },
   "outputs": [],
   "source": [
    "set(l)"
   ]
  },
  {
   "cell_type": "code",
   "execution_count": null,
   "metadata": {},
   "outputs": [],
   "source": [
    "sorted(l)"
   ]
  },
  {
   "cell_type": "code",
   "execution_count": null,
   "metadata": {
    "scrolled": true
   },
   "outputs": [],
   "source": [
    "str(l)"
   ]
  },
  {
   "cell_type": "code",
   "execution_count": null,
   "metadata": {},
   "outputs": [],
   "source": [
    "sum(l)"
   ]
  },
  {
   "cell_type": "markdown",
   "metadata": {},
   "source": [
    "### concatenation\n",
    "Addition of lists results in a list concatenating the inputs."
   ]
  },
  {
   "cell_type": "code",
   "execution_count": null,
   "metadata": {},
   "outputs": [],
   "source": [
    "a = [2,'blah',3+2j]\n",
    "b = ['halb']\n",
    "a + b"
   ]
  },
  {
   "cell_type": "markdown",
   "metadata": {},
   "source": [
    "### multiplication\n",
    "Multiplication of a list by a number results in a list with repeated elements of the original list."
   ]
  },
  {
   "cell_type": "code",
   "execution_count": null,
   "metadata": {},
   "outputs": [],
   "source": [
    "a * 3"
   ]
  },
  {
   "cell_type": "markdown",
   "metadata": {},
   "source": [
    "# List comprehension\n",
    "Is a concise and efficient way to create a list from another list. It consists of an expression followed by a **for** statement inside square brackets.\n",
    "\n",
    "See [notebook](s_PyLoops.ipynb) for more info on loops."
   ]
  },
  {
   "cell_type": "code",
   "execution_count": null,
   "metadata": {},
   "outputs": [],
   "source": [
    "[i**2 for i in range(11)]"
   ]
  },
  {
   "cell_type": "markdown",
   "metadata": {},
   "source": [
    "# List membership\n",
    "Is an efficient way to test if an item is part of a list. It uses the keyword **in**."
   ]
  },
  {
   "cell_type": "code",
   "execution_count": null,
   "metadata": {},
   "outputs": [],
   "source": [
    "l = [i for i in range(10)]\n",
    "3 in l"
   ]
  },
  {
   "cell_type": "markdown",
   "metadata": {},
   "source": [
    "The keyword **in** can also be used to iterate through the elements of a list."
   ]
  },
  {
   "cell_type": "code",
   "execution_count": null,
   "metadata": {
    "scrolled": true
   },
   "outputs": [],
   "source": [
    "myList = 'Colorado School of Mines'.split()\n",
    "for myWord in myList:\n",
    "    print(myWord)"
   ]
  },
  {
   "cell_type": "markdown",
   "metadata": {},
   "source": [
    "<img src=\"https://www.dropbox.com/s/wj23ce93pa9j8pe/demo.png?raw=1\" width=\"10%\" align=\"left\">\n",
    "# Exercise\n",
    "Consider the following text from [**Carl Sagan**](https://en.wikipedia.org/wiki/Carl_Sagan)'s book entitled **Pale Blue Dot**:\n",
    "\n",
    "*Look again at that dot. That's here. That's home. That's us. On it everyone you love, everyone you know, everyone you ever heard of, every human being who ever was, lived out their lives. The aggregate of our joy and suffering, thousands of confident religions, ideologies, and economic doctrines, every hunter and forager, every hero and coward, every creator and destroyer of civilization, every king and peasant, every young couple in love, every mother and father, hopeful child, inventor and explorer, every teacher of morals, every corrupt politician, every \"superstar,\" every \"supreme leader,\" every saint and sinner in the history of our species lived there--on a mote of dust suspended in a sunbeam.*\n",
    "\n",
    "*The Earth is a very small stage in a vast cosmic arena. Think of the rivers of blood spilled by all those generals and emperors so that, in glory and triumph, they could become the momentary masters of a fraction of a dot. Think of the endless cruelties visited by the inhabitants of one corner of this pixel on the scarcely distinguishable inhabitants of some other corner, how frequent their misunderstandings, how eager they are to kill one another, how fervent their hatreds.*\n",
    "\n",
    "*Our posturings, our imagined self-importance, the delusion that we have some privileged position in the Universe, are challenged by this point of pale light. Our planet is a lonely speck in the great enveloping cosmic dark. In our obscurity, in all this vastness, there is no hint that help will come from elsewhere to save us from ourselves.*\n",
    "\n",
    "*The Earth is the only world known so far to harbor life. There is nowhere else, at least in the near future, to which our species could migrate. Visit, yes. Settle, not yet. Like it or not, for the moment the Earth is where we make our stand.*\n",
    "\n",
    "*It has been said that astronomy is a humbling and character-building experience. There is perhaps no better demonstration of the folly of human conceits than this distant image of our tiny world. To me, it underscores our responsibility to deal more kindly with one another, and to preserve and cherish the pale blue dot, the only home we've ever known.*\n",
    "\n",
    "*** \n",
    "Use Python **string** and **list** functions to\n",
    "* order the words alphabetically\n",
    "* order the words by length (with explicit and implicit functions)\n",
    "* order the words by case (with explicit and implicit functions)"
   ]
  },
  {
   "cell_type": "code",
   "execution_count": null,
   "metadata": {},
   "outputs": [],
   "source": [
    "import string"
   ]
  },
  {
   "cell_type": "markdown",
   "metadata": {},
   "source": [
    "Start by loading the PBD text from an external file into a string:"
   ]
  },
  {
   "cell_type": "code",
   "execution_count": null,
   "metadata": {},
   "outputs": [],
   "source": [
    "with open (\"pbd.txt\", \"r\") as pbdFile:\n",
    "    myPBD = pbdFile.read()"
   ]
  },
  {
   "cell_type": "markdown",
   "metadata": {},
   "source": [
    "Then remove all punctuation symbols from the string using a translator:"
   ]
  },
  {
   "cell_type": "code",
   "execution_count": null,
   "metadata": {},
   "outputs": [],
   "source": [
    "translator = str.maketrans('','',string.punctuation)\n",
    "myCHR = myPBD.translate(translator)"
   ]
  },
  {
   "cell_type": "markdown",
   "metadata": {},
   "source": [
    "Separate the string in a list of strings (i.e. words) using the function **split**:"
   ]
  },
  {
   "cell_type": "code",
   "execution_count": null,
   "metadata": {
    "scrolled": true
   },
   "outputs": [],
   "source": [
    "myWRD = myCHR.split()\n",
    "\n",
    "print(myWRD)"
   ]
  },
  {
   "cell_type": "markdown",
   "metadata": {},
   "source": [
    "Sort the list alphabetically using the function **sort**:"
   ]
  },
  {
   "cell_type": "code",
   "execution_count": null,
   "metadata": {},
   "outputs": [],
   "source": [
    "myALP = myWRD.copy()\n",
    "myALP.sort()\n",
    "\n",
    "print(myALP)"
   ]
  },
  {
   "cell_type": "markdown",
   "metadata": {},
   "source": [
    "Although not needed for sorting words by length, we can generate another list containing the lengths of each word using **list comprehension**:"
   ]
  },
  {
   "cell_type": "code",
   "execution_count": null,
   "metadata": {
    "scrolled": true
   },
   "outputs": [],
   "source": [
    "print( [len(myALP[i]) for i in range(len(myALP))] )"
   ]
  },
  {
   "cell_type": "markdown",
   "metadata": {},
   "source": [
    "We can sort words by length using an **explicit function**:"
   ]
  },
  {
   "cell_type": "code",
   "execution_count": null,
   "metadata": {
    "scrolled": true
   },
   "outputs": [],
   "source": [
    "def wordLength(e):\n",
    "  return len(e)\n",
    "\n",
    "myLEN = myALP.copy()\n",
    "myLEN.sort( key = wordLength )\n",
    "\n",
    "print(myLEN)"
   ]
  },
  {
   "cell_type": "markdown",
   "metadata": {},
   "source": [
    "We can sort words by length using an **implicit function**:"
   ]
  },
  {
   "cell_type": "code",
   "execution_count": null,
   "metadata": {},
   "outputs": [],
   "source": [
    "myLEN = myALP.copy()\n",
    "myLEN.sort( key = (lambda e: len(e)) );\n",
    "\n",
    "print(myLEN)"
   ]
  },
  {
   "cell_type": "markdown",
   "metadata": {},
   "source": [
    "We can sort the list by case using an **explicit function**:"
   ]
  },
  {
   "cell_type": "code",
   "execution_count": null,
   "metadata": {
    "scrolled": true
   },
   "outputs": [],
   "source": [
    "def wordCase(e):\n",
    "  return e.islower()\n",
    "\n",
    "myCAS = myALP.copy()\n",
    "myCAS.sort( key = wordCase )\n",
    "print(myCAS)"
   ]
  },
  {
   "cell_type": "markdown",
   "metadata": {},
   "source": [
    "We can sort the list by case using an **implicit function**:"
   ]
  },
  {
   "cell_type": "code",
   "execution_count": null,
   "metadata": {},
   "outputs": [],
   "source": [
    "myCAS = myALP.copy()\n",
    "myCAS.sort( key = (lambda e: e.islower()) )\n",
    "print(myCAS)"
   ]
  }
 ],
 "metadata": {
  "kernelspec": {
   "display_name": "Python 3",
   "language": "python",
   "name": "python3"
  },
  "language_info": {
   "codemirror_mode": {
    "name": "ipython",
    "version": 3
   },
   "file_extension": ".py",
   "mimetype": "text/x-python",
   "name": "python",
   "nbconvert_exporter": "python",
   "pygments_lexer": "ipython3",
   "version": "3.6.5"
  }
 },
 "nbformat": 4,
 "nbformat_minor": 2
}
