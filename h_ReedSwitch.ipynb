{
 "cells": [
  {
   "cell_type": "markdown",
   "metadata": {},
   "source": [
    "<div style=\"float: left; width: 25%;\">\n",
    "<ul>\n",
    "<img src=\"http://www.minesnewsroom.com/sites/default/files/wysiwyg-editor/photos/CO-Mines-logo-stacked-4C-200x235w.png\" style=\"height: 115px;\">\n",
    "</ul>\n",
    "</div>\n",
    "\n",
    "<div style=\"float: right; width: 75%;\">\n",
    "<ul>\n",
    "    <h1> CSCI 250 - Building a Sensor System </h1>\n",
    "    <span style=\"color:red\">\n",
    "        <h2> Reed Switch </h2>\n",
    "    </span>\n",
    "</ul>\n",
    "</div>"
   ]
  },
  {
   "cell_type": "markdown",
   "metadata": {},
   "source": [
    "# Introduction\n",
    "\n",
    "<img src=\"https://cdn.sparkfun.com//assets/parts/5/1/2/3/10601-01.jpg\" width=\"30%\" align=\"right\">\n",
    "\n",
    "As a circuit element, reed switches act just like push buttons, except reed switches are activated by magnets. Inside the reed switch are ferrous materials that make an electrical connection when a magnet is brought nearby. You can learn more about reed switches on [this  page](https://en.wikipedia.org/wiki/Reed_switch). If you want to know more about using switches in this class, see the [push button notebook](h_PushButton.ipynb)."
   ]
  },
  {
   "cell_type": "markdown",
   "metadata": {},
   "source": [
    "# Wiring\n",
    "\n",
    "In order to use a reed switch as an input for a GPIO pin, the voltage on the pin needs to be 3.3V (logical high voltage) when the switch is in one state, and 0V (logical low voltage) when the switch is in the other state. Assuming one side of the switch is the only thing connected to the GPIO pin, it will be left in a floating state when the switch is open (no magnet), which can return random noise and random behavior. To fix this, we need to make use of a pull-up or pull-down resistor. You could add one to your circuit manually, but we will instead use the internal resistors of the RPi when writing the code for it. Assuming you use a pull-up resistor (causing logical high voltage when the switch is open), the other side of the switch needs to be connected to GND (causing logical low voltage when the switch is closed); see left image below. Alternatively you can flip the behavior of the reed switch by using a pull-down resistor and connecting the switch to 3.3V; see right image below.\n",
    "\n",
    "<img src=\"https://www.dropbox.com/s/192uurde4dlpuz3/wiring_button.PNG?raw=1\" width=\"49%\" align=\"left\">\n",
    "\n",
    "<img src=\"https://www.dropbox.com/s/k807ry12h6fg2do/wiring_button_pull_down.PNG?raw=1\" width=\"49%\" align=\"right\">"
   ]
  },
  {
   "cell_type": "markdown",
   "metadata": {},
   "source": [
    "# Programming\n",
    "\n",
    "In order to use the reed switch as an input, you first need to configure the GPIO pin to input mode and activate the internal resistor. This requires the usual setup of importing the GPIO library and setting it to use the GPIO numbering. Run the code in the cell below by first clicking in it, then pressing Ctrl+Enter on your keyboard."
   ]
  },
  {
   "cell_type": "code",
   "execution_count": null,
   "metadata": {},
   "outputs": [],
   "source": [
    "# Need the GPIO library\n",
    "import RPi.GPIO as GPIO\n",
    "\n",
    "# Use GPIO numbering\n",
    "GPIO.setmode(GPIO.BCM)\n",
    "\n",
    "# Always a good idea to assign a variable for the pin numer\n",
    "# You can change the number if your switch is connected to a different pin\n",
    "switchPin = 27\n",
    "\n",
    "# Configures the GPIO pin to accept inputs, and activates the pull-up resistor\n",
    "# PUD_UP for internal pull-up resistor, and PUD_DOWN for internal pull-down resistor\n",
    "GPIO.setup(switchPin, GPIO.IN, pull_up_down=GPIO.PUD_UP)\n",
    "\n",
    "print(\"Done!\")"
   ]
  },
  {
   "cell_type": "markdown",
   "metadata": {},
   "source": [
    "Note that the code above configures the reed switch to use the internal pull-up resistor, meaning the other side of the switch needs to be connected to GND. Now that the GPIO pin has been configured for the switch, we can test it out! Run the code in the cell below while no magnet is present, then again while a magnet is near the switch (within about 1cm)."
   ]
  },
  {
   "cell_type": "code",
   "execution_count": null,
   "metadata": {},
   "outputs": [],
   "source": [
    "# Tell us what the state of this pin is!\n",
    "print(GPIO.input(switchPin))"
   ]
  },
  {
   "cell_type": "markdown",
   "metadata": {},
   "source": [
    "If everything went well, it should have printed \"1\" and \"0\" when the magnet was far from and near the reed switch respectively. Now try this: change the internal resistor to a pull-down resistor in the first code cell (remember to rerun the code with Ctrl+Enter!), and connect the other side of the switch to 3.3V instead of GND. Then rerun the print code in the cell above; you should notice a flipped behavior! You may find this behavior to be more intuitive, but you can choose whatever configuration you prefer in the future."
   ]
  },
  {
   "cell_type": "markdown",
   "metadata": {},
   "source": [
    "# Debugging\n",
    "\n",
    "Useful debugging tips for any time during the semester!\n",
    "\n",
    "* I get error messages when I run my code.\n",
    "    * There's probably an issue with your code, not any of the components! Read the error message and try to understand what it's telling you in order to fix it. If you're not sure, ask someone to help you!\n",
    "* Nothing happens when I bring the magnet near the reed switch.\n",
    "    * There's a good chance that you've done your wiring incorrectly or there's a bug in your code. Double check both of these for any errors first!\n",
    "    * If you can't find any errors, go back to basics! Recreate the circuit and run the code from this notebook to see if your reed switch still works. If it's not working, try another switch that you know is working. If the new one works, then the old one is probably broken. If neither work, you may be having another issue; raise your hand and we'll come help you."
   ]
  }
 ],
 "metadata": {
  "kernelspec": {
   "display_name": "Python 3",
   "language": "python",
   "name": "python3"
  },
  "language_info": {
   "codemirror_mode": {
    "name": "ipython",
    "version": 3
   },
   "file_extension": ".py",
   "mimetype": "text/x-python",
   "name": "python",
   "nbconvert_exporter": "python",
   "pygments_lexer": "ipython3",
   "version": "3.6.5"
  },
  "varInspector": {
   "cols": {
    "lenName": 16,
    "lenType": 16,
    "lenVar": 40
   },
   "kernels_config": {
    "python": {
     "delete_cmd_postfix": "",
     "delete_cmd_prefix": "del ",
     "library": "var_list.py",
     "varRefreshCmd": "print(var_dic_list())"
    },
    "r": {
     "delete_cmd_postfix": ") ",
     "delete_cmd_prefix": "rm(",
     "library": "var_list.r",
     "varRefreshCmd": "cat(var_dic_list()) "
    }
   },
   "types_to_exclude": [
    "module",
    "function",
    "builtin_function_or_method",
    "instance",
    "_Feature"
   ],
   "window_display": false
  }
 },
 "nbformat": 4,
 "nbformat_minor": 2
}
