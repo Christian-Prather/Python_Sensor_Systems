{
 "cells": [
  {
   "cell_type": "markdown",
   "metadata": {},
   "source": [
    "<div style=\"float: left; width: 25%;\">\n",
    "<ul>\n",
    "<img src=\"http://www.minesnewsroom.com/sites/default/files/wysiwyg-editor/photos/CO-Mines-logo-stacked-4C-200x235w.png\" style=\"height: 115px;\">\n",
    "</ul>\n",
    "</div>\n",
    "\n",
    "<div style=\"float: right; width: 75%;\">\n",
    "<ul>\n",
    "    <h1> CSCI 250 - Building a Sensor System </h1>\n",
    "    <span style=\"color:red\">\n",
    "        <h2> Analog to Digital Converter </h2>\n",
    "    </span>\n",
    "</ul>\n",
    "</div>"
   ]
  },
  {
   "cell_type": "markdown",
   "metadata": {},
   "source": [
    "# Introduction\n",
    "\n",
    "<img src=\"https://cdn.sparkfun.com//assets/parts/1/7/7/0/08636-03-L.jpg\" width=\"30%\" align='right'>\n",
    "\n",
    "ADC (analog to digital converters) chips are devices that measure a voltage and return that information to another microcontroller by digital communication. The ADC converters are very useful with RPis, because these computers are unable to measure analog voltages, and instead can only make use of the GPIO pins for input from digital circuits. \n",
    "\n",
    "More information about ADC chips is available on [this page](https://en.wikipedia.org/wiki/Analog-to-digital_converter)."
   ]
  },
  {
   "cell_type": "markdown",
   "metadata": {},
   "source": [
    "# Wiring\n",
    "\n",
    "Our kits come with the MCP3002 ADC. It's useful to read through the ADC [datasheet](http://ww1.microchip.com/downloads/en/DeviceDoc/21294C.pdf) before using it (more information is available under the documents tabs of the [SparkFun ADC](https://www.sparkfun.com/products/8636) page or by Googling \"MCP3002 datasheet\"). The most important information is summarized in this notebook.\n",
    "\n",
    "The ADC pins are organized as follows:\n",
    "1. **CS** = Chip select <br>\n",
    "    Choose on what channel we communicate with the ADC. <br>\n",
    "    Can be connected to **CE0** or **CE1** on the RPi Wedge, but use **CE0** for now.\n",
    "    \n",
    "2. **CH0** = Channel 0 Input<br>\n",
    "   Connect an analog sensor to this pin.\n",
    "   \n",
    "3. **CH1** = Channel 1 Input<br>\n",
    "   Connect an analog sensor to this pin.\n",
    "   \n",
    "4. **VSS** = Ground<br>\n",
    "   Connect to **GND** on the RPi Wedge.\n",
    "\n",
    "5. **DIN** = Serial data in<br>\n",
    "   Connect to **MOSI** on the RPi Wedge.\n",
    "  \n",
    "6. **DOUT** = Serial data out<br>\n",
    "   Connect to **MISO** on the RPi Wedge.\n",
    "\n",
    "7. **CLK** = Clock Pulse<br>\n",
    "   Connect to **SCK** on the RPi Wedge.\n",
    "   \n",
    "8. **VDD/VREF** = Reference voltage<br>\n",
    "   Connect to **3.3V** on the RPi Wedge.\n",
    "   \n"
   ]
  },
  {
   "cell_type": "markdown",
   "metadata": {},
   "source": [
    "Connect the ADC pins in the following order:\n",
    "\n",
    "1. Communication:\n",
    "    * **CLK**  to **SCK**   (connects the clock pulse generator)\n",
    "    * **CS**   to **CE0**   (selects communication channel)\n",
    "    * **DOUT** to ** MISO** (sets serial data out to the ADC)\n",
    "    * **DIN**  to ** MOSI** (sets serial data in to the ADC)\n",
    "\n",
    "\n",
    "2. Power:\n",
    "    * **VSS** to **GND** (ground)\n",
    "    * **VDD** to **3.3V** (voltage)\n",
    "\n",
    "\n",
    "3. Sensors:\n",
    "    * **CH0** or **CH1**\n",
    "    \n",
    "<img src=\"https://www.dropbox.com/s/v30tuo34sbfrq54/MCP3002.png?raw=1\" width=\"60%\" align=\"left\">"
   ]
  },
  {
   "cell_type": "markdown",
   "metadata": {},
   "source": [
    "Note there is a notch in the case of the ADC which typically indicates the top of the device. Push the ADC into your breadboard over the middle so every pin is on its own rails.\n",
    "\n",
    "<img src=\"https://www.dropbox.com/s/xircvfi3spyc5oj/wiring_adc.PNG?raw=1\" width=\"60%\" align=\"left\">\n",
    "\n",
    "<img src=\"https://www.dropbox.com/s/y4zar22xergavhn/circuit_adc.jpg?raw=1\" width=\"40%\" align=\"right\">"
   ]
  },
  {
   "cell_type": "markdown",
   "metadata": {},
   "source": [
    "# SPI interface\n",
    "\n",
    "The ADC communicates with the RPi over the [Serial Peripheral Interface (SPI)](https://en.wikipedia.org/wiki/Serial_Peripheral_Interface). Check that the SPI interface is enabled on the RPi: go to the RPi Configuration from Preferences, then on the Interfaces tab for SPI click enable, then OK (this should already be on from setup day).\n",
    "\n",
    "It is not important to know all the details of how SPI works to use it, so this notebook contains just an abbreviated explanation. More details about SPI and how the ADC uses it are available in the [SPI notebook](h_SPI.ipynb). \n",
    "\n",
    "As you can see in the following timing diagram, the 4 wires used for SPI go to high and low voltages at various times to determine the binary bits that are sent. The RPi  sends 4 bits to the ADC, specifying which features to use including the channel to measure from. The ADC then sends $10$ bits back to the RPi representing the voltage it measured. Because the voltage is represented by 10 bits, the return (integer) values range from $0$ to $2^{10}-1=1023$, and correspond to $0$ to $3.3$V.\n",
    "\n",
    "<img src=\"http://blog.digilentinc.com/wp-content/uploads/2014/09/SPI-signals.png\" width=\"70%\">"
   ]
  },
  {
   "cell_type": "markdown",
   "metadata": {},
   "source": [
    "# ADC reader\n",
    "For ease of use, we have created a simple module with a function that enables data collection from an analog sensor. The function is called `readADC` and it is included in the module `spiUtils`. If you want to learn more about how this function is derived, look in the [SPI notebook](h_SPI.ipynb) for details. In the future, you can import `spiUtils` rather than loading it like this:"
   ]
  },
  {
   "cell_type": "code",
   "execution_count": null,
   "metadata": {},
   "outputs": [],
   "source": [
    "import spiUtils as su"
   ]
  },
  {
   "cell_type": "markdown",
   "metadata": {},
   "source": [
    "# Testing\n",
    "Call the `readADC` function to check that it returns an integer between 0 and 1023. You need to have one analog sensor connected to the channel used in the call. See the notebooks for the [potentiometer](h_Potentiometer.ipynb) or the [photoresistor](h_Photoresistor.ipynb) for information about analog sensor connection."
   ]
  },
  {
   "cell_type": "code",
   "execution_count": null,
   "metadata": {},
   "outputs": [],
   "source": [
    "su.readADC(channel=0)"
   ]
  },
  {
   "cell_type": "markdown",
   "metadata": {},
   "source": [
    "# Debugging\n",
    "\n",
    "Useful debugging tips for any time during the semester!\n",
    "\n",
    "* I get error messages when I run my code.\n",
    "    * There's probably an issue with your code, not any of the components! Read the error message and try to understand what it's telling you in order to fix it. If you're not sure, ask someone to help you!\n",
    "* The ADC always returns 0.\n",
    "    * You're probably having an issue communicating with the ADC, which would most likely come from a wiring problem. Double check your wiring with ADC notebook to make sure the connections are correct. Also double check your code for any bugs, and that the channel you're measuring isn't just connected to 0V.\n",
    "    * If you can't figure out the problem, raise your hand and we'll come help you.\n",
    "* I get funky numbers from the ADC.\n",
    "    * The most likely cause is that the pin is left floating because it's not connected to anything; simply moving your hand near the ADC can cause the values to change! Make sure there is something connected to one of the channel pins of the ADC, and make sure your code is getting data from the same channel.\n",
    "    * If the above step doesn't help, try your neighbor's ADC. If the new one works, yours is likely broken.\n",
    "    * If none of the above steps help, you may be having some other issue; raise your hand and we'll come help you."
   ]
  }
 ],
 "metadata": {
  "kernelspec": {
   "display_name": "Python 3",
   "language": "python",
   "name": "python3"
  },
  "language_info": {
   "codemirror_mode": {
    "name": "ipython",
    "version": 3
   },
   "file_extension": ".py",
   "mimetype": "text/x-python",
   "name": "python",
   "nbconvert_exporter": "python",
   "pygments_lexer": "ipython3",
   "version": "3.6.5"
  }
 },
 "nbformat": 4,
 "nbformat_minor": 2
}
