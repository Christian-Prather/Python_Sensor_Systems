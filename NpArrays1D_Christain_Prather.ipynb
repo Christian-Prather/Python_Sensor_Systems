{
 "cells": [
  {
   "cell_type": "markdown",
   "metadata": {},
   "source": [
    "<div style=\"float: left; width: 25%;\">\n",
    "<ul>\n",
    "<img src=\"http://www.minesnewsroom.com/sites/default/files/wysiwyg-editor/photos/CO-Mines-logo-stacked-4C-200x235w.png\" style=\"height: 115px;\">\n",
    "</ul>\n",
    "</div>\n",
    "\n",
    "<div style=\"float: right; width: 75%;\">\n",
    "<ul>\n",
    "    <h1> CSCI 250 - Building a Sensor System </h1>\n",
    "    <span style=\"color:red\">\n",
    "        <h2> 1D numpy arrays </h2>\n",
    "    </span>\n",
    "</ul>\n",
    "</div>"
   ]
  },
  {
   "cell_type": "markdown",
   "metadata": {},
   "source": [
    "# Objectives\n",
    "* Introduce 1D numpy arrays and operations\n",
    "* Discuss numpy array \n",
    "    * attributes\n",
    "    * slicing and striding"
   ]
  },
  {
   "cell_type": "markdown",
   "metadata": {},
   "source": [
    "# Resources\n",
    "* [Numpy.org](http://www.numpy.org)"
   ]
  },
  {
   "cell_type": "markdown",
   "metadata": {},
   "source": [
    "# import\n",
    "Numpy comes with lots of functions specifically designed for array operations. Numpy **methods** can be accessed by typing the module name, followed by a dot, followed by the **TAB** key. The name of the method followed by **?** returns the associated selfdoc. Also, each numpy objects has specific associated methods which can be accessed using the same procedure."
   ]
  },
  {
   "cell_type": "code",
   "execution_count": 3,
   "metadata": {},
   "outputs": [],
   "source": [
    "import numpy as np\n",
    "\n",
    "n = 6"
   ]
  },
  {
   "cell_type": "markdown",
   "metadata": {},
   "source": [
    "# array creation\n",
    "There are multiple mechanisms to define 1D numpy arrays."
   ]
  },
  {
   "cell_type": "markdown",
   "metadata": {},
   "source": [
    "## list conversion\n",
    "Use the function **array** to create a numpy array from a Python list.\n",
    "\n",
    "`np.array(object, dtype=None, copy=True, order='K', subok=False, ndmin=0)`"
   ]
  },
  {
   "cell_type": "code",
   "execution_count": 2,
   "metadata": {},
   "outputs": [
    {
     "name": "stdout",
     "output_type": "stream",
     "text": [
      "[2. 3. 4. 5.]\n"
     ]
    },
    {
     "data": {
      "text/plain": [
       "numpy.ndarray"
      ]
     },
     "execution_count": 2,
     "metadata": {},
     "output_type": "execute_result"
    }
   ],
   "source": [
    "x = np.array( [2,3,4,5], dtype='float')\n",
    "print(x)\n",
    "type(x)"
   ]
  },
  {
   "cell_type": "markdown",
   "metadata": {},
   "source": [
    "## sequence conversion\n",
    "Use the function **array** to create a numpy array from a sequence defined with function range.\n",
    "\n",
    "`np.array(object, dtype=None, copy=True, order='K', subok=False, ndmin=0)`"
   ]
  },
  {
   "cell_type": "code",
   "execution_count": 3,
   "metadata": {},
   "outputs": [
    {
     "name": "stdout",
     "output_type": "stream",
     "text": [
      "[0. 1. 2. 3. 4. 5.]\n"
     ]
    },
    {
     "data": {
      "text/plain": [
       "numpy.ndarray"
      ]
     },
     "execution_count": 3,
     "metadata": {},
     "output_type": "execute_result"
    }
   ],
   "source": [
    "x = np.array( range(n), dtype='float')\n",
    "print(x)\n",
    "type(x)"
   ]
  },
  {
   "cell_type": "markdown",
   "metadata": {},
   "source": [
    "## zeros()\n",
    "Returns a new array of given shape and type, filled with zeros.\n",
    "\n",
    "`np.zeros(shape, dtype=None, order='C')`"
   ]
  },
  {
   "cell_type": "code",
   "execution_count": 4,
   "metadata": {},
   "outputs": [],
   "source": [
    "zI = np.zeros(n, dtype=int)\n",
    "zF = np.zeros(n, dtype=float)\n",
    "zB = np.zeros(n, dtype=bool)\n",
    "zC = np.zeros(n, dtype=complex)"
   ]
  },
  {
   "cell_type": "code",
   "execution_count": 5,
   "metadata": {
    "scrolled": true
   },
   "outputs": [
    {
     "name": "stdout",
     "output_type": "stream",
     "text": [
      "[0 0 0 0 0 0]\n",
      "[0. 0. 0. 0. 0. 0.]\n",
      "[False False False False False False]\n",
      "[0.+0.j 0.+0.j 0.+0.j 0.+0.j 0.+0.j 0.+0.j]\n"
     ]
    }
   ],
   "source": [
    "print(zI)\n",
    "print(zF)\n",
    "print(zB)\n",
    "print(zC)"
   ]
  },
  {
   "cell_type": "markdown",
   "metadata": {},
   "source": [
    "## ones()\n",
    "Returns a new array of given shape and type, filled with ones.\n",
    "\n",
    "`np.ones(shape, dtype=None, order='C')`"
   ]
  },
  {
   "cell_type": "code",
   "execution_count": 6,
   "metadata": {},
   "outputs": [],
   "source": [
    "oI = np.ones(n, dtype=int)\n",
    "oF = np.ones(n, dtype=float)\n",
    "oB = np.ones(n, dtype=bool)\n",
    "oC = np.ones(n, dtype=complex)"
   ]
  },
  {
   "cell_type": "code",
   "execution_count": 7,
   "metadata": {},
   "outputs": [
    {
     "name": "stdout",
     "output_type": "stream",
     "text": [
      "[1 1 1 1 1 1]\n",
      "[1. 1. 1. 1. 1. 1.]\n",
      "[ True  True  True  True  True  True]\n",
      "[1.+0.j 1.+0.j 1.+0.j 1.+0.j 1.+0.j 1.+0.j]\n"
     ]
    }
   ],
   "source": [
    "print(oI)\n",
    "print(oF)\n",
    "print(oB)\n",
    "print(oC)"
   ]
  },
  {
   "cell_type": "markdown",
   "metadata": {},
   "source": [
    "## arange()\n",
    "\n",
    "Return evenly spaced values within a given interval. It can be used to contstruct numpy arrays for different data types, as specified by **dtype**. (Type bool has no meaning in this context.)\n",
    "\n",
    "`np.arange([start,] stop[, step,], dtype=None)`"
   ]
  },
  {
   "cell_type": "code",
   "execution_count": 8,
   "metadata": {},
   "outputs": [
    {
     "name": "stdout",
     "output_type": "stream",
     "text": [
      "[2.  2.5 3.  3.5 4.  4.5]\n"
     ]
    }
   ],
   "source": [
    "a = np.arange(2.0, 5.0, 0.5)\n",
    "print(a)"
   ]
  },
  {
   "cell_type": "markdown",
   "metadata": {},
   "source": [
    "## linspace()\n",
    "Returns evenly spaced numbers over a specified interval. It can be used to contstruct numpy arrays for different data types, as specified by **dtype**. (Type bool has no meaning in this context.)\n",
    "\n",
    "`np.linspace(start, stop, num=50, endpoint=True, retstep=False, dtype=None)`"
   ]
  },
  {
   "cell_type": "markdown",
   "metadata": {},
   "source": [
    "The function **linspace** specifies how many values we want in an interval, unlike the function **arange** which specifies the increment between the values. Therefore, linspace enables arrays to have known start and stop values."
   ]
  },
  {
   "cell_type": "code",
   "execution_count": 9,
   "metadata": {},
   "outputs": [
    {
     "name": "stdout",
     "output_type": "stream",
     "text": [
      "[2.  2.5 3.  3.5 4.  4.5 5. ]\n"
     ]
    }
   ],
   "source": [
    "a = np.linspace(2.0, 5.0, 7)\n",
    "print(a)"
   ]
  },
  {
   "cell_type": "markdown",
   "metadata": {},
   "source": [
    "## logspace()\n",
    "Return numbers spaced evenly on a log scale. It can be used to contstruct numpy arrays for different data types, as specified by **dtype**. (Type bool has no meaning in this context.)\n",
    "\n",
    "`np.logspace(start, stop, num=50, endpoint=True, base=10.0, dtype=None)`"
   ]
  },
  {
   "cell_type": "code",
   "execution_count": 10,
   "metadata": {},
   "outputs": [
    {
     "name": "stdout",
     "output_type": "stream",
     "text": [
      "[1.e-02 1.e-01 1.e+00 1.e+01 1.e+02]\n"
     ]
    }
   ],
   "source": [
    "a = np.logspace(-2, 2, 5)\n",
    "print(a)"
   ]
  },
  {
   "cell_type": "markdown",
   "metadata": {},
   "source": [
    "# array indexing\n",
    "\n",
    "We can access an element of an array using the index of the elemnent (start w/ 0)."
   ]
  },
  {
   "cell_type": "code",
   "execution_count": 11,
   "metadata": {},
   "outputs": [
    {
     "name": "stdout",
     "output_type": "stream",
     "text": [
      "[1. 1. 1. 1. 1. 1.]\n"
     ]
    }
   ],
   "source": [
    "a = np.ones(n, dtype='float')\n",
    "print(a)"
   ]
  },
  {
   "cell_type": "code",
   "execution_count": 12,
   "metadata": {},
   "outputs": [
    {
     "name": "stdout",
     "output_type": "stream",
     "text": [
      "[1. 1. 1. 0. 1. 1.]\n"
     ]
    }
   ],
   "source": [
    "a[ 3 ] = 0\n",
    "print(a)"
   ]
  },
  {
   "cell_type": "code",
   "execution_count": 13,
   "metadata": {},
   "outputs": [
    {
     "name": "stdout",
     "output_type": "stream",
     "text": [
      "[1. 1. 0. 0. 1. 1.]\n"
     ]
    }
   ],
   "source": [
    "# can also use negative indexes\n",
    "a[ -4 ] = 0\n",
    "print(a)"
   ]
  },
  {
   "cell_type": "markdown",
   "metadata": {},
   "source": [
    "# array slicing\n",
    "We can access/modify a range of elements using min and max array indexes. "
   ]
  },
  {
   "cell_type": "code",
   "execution_count": 14,
   "metadata": {
    "scrolled": true
   },
   "outputs": [
    {
     "name": "stdout",
     "output_type": "stream",
     "text": [
      "[1. 1. 1. 1. 1. 1.]\n"
     ]
    }
   ],
   "source": [
    "a = np.ones(n, dtype='float')\n",
    "print(a)"
   ]
  },
  {
   "cell_type": "code",
   "execution_count": 15,
   "metadata": {
    "scrolled": true
   },
   "outputs": [
    {
     "name": "stdout",
     "output_type": "stream",
     "text": [
      "[1. 1. 1. 0. 0. 0.]\n"
     ]
    }
   ],
   "source": [
    "a[ 3:7 ] = 0\n",
    "print(a)"
   ]
  },
  {
   "cell_type": "markdown",
   "metadata": {},
   "source": [
    "# array attributes\n",
    "Array attributes reflect information that is intrinsic to the array itself and allow to get and set intrinsic properties of the array without creating a new array. "
   ]
  },
  {
   "cell_type": "markdown",
   "metadata": {},
   "source": [
    "<img src=\"http://www.dropbox.com/s/fcucolyuzdjl80k/todo.jpg?raw=1\" width=\"10%\" align=\"left\">\n",
    "Explain the meaning and explore the use of specific **array attributes**.\n",
    "Add comments capturing the purpose and usage for the listed attributes, and include other examples demonstrating different features."
   ]
  },
  {
   "cell_type": "code",
   "execution_count": 16,
   "metadata": {},
   "outputs": [],
   "source": [
    "o = np.ones( n )\n",
    "# Generate a numpy array of all ones of size n"
   ]
  },
  {
   "cell_type": "code",
   "execution_count": 17,
   "metadata": {},
   "outputs": [
    {
     "data": {
      "text/plain": [
       "1"
      ]
     },
     "execution_count": 17,
     "metadata": {},
     "output_type": "execute_result"
    }
   ],
   "source": [
    "o.ndim\n",
    "# Return the dimension of numpy array o"
   ]
  },
  {
   "cell_type": "code",
   "execution_count": 19,
   "metadata": {
    "scrolled": false
   },
   "outputs": [
    {
     "data": {
      "text/plain": [
       "(6,)"
      ]
     },
     "execution_count": 19,
     "metadata": {},
     "output_type": "execute_result"
    }
   ],
   "source": [
    "o.shape\n",
    "# Return the shape (number of elements in the numpy array, dimension)"
   ]
  },
  {
   "cell_type": "code",
   "execution_count": 21,
   "metadata": {},
   "outputs": [
    {
     "data": {
      "text/plain": [
       "6"
      ]
     },
     "execution_count": 21,
     "metadata": {},
     "output_type": "execute_result"
    }
   ],
   "source": [
    "o.size\n",
    "# Return the shape of a numpy array (number of elements of the array)"
   ]
  },
  {
   "cell_type": "code",
   "execution_count": 23,
   "metadata": {
    "scrolled": true
   },
   "outputs": [
    {
     "data": {
      "text/plain": [
       "dtype('float64')"
      ]
     },
     "execution_count": 23,
     "metadata": {},
     "output_type": "execute_result"
    }
   ],
   "source": [
    "o.dtype\n",
    "# Return the data type of the elements in the numpy array"
   ]
  },
  {
   "cell_type": "code",
   "execution_count": 25,
   "metadata": {
    "scrolled": true
   },
   "outputs": [
    {
     "data": {
      "text/plain": [
       "48"
      ]
     },
     "execution_count": 25,
     "metadata": {},
     "output_type": "execute_result"
    }
   ],
   "source": [
    "o.nbytes\n",
    "# Return the number of bytes used to store the data in the numpy array"
   ]
  },
  {
   "cell_type": "markdown",
   "metadata": {},
   "source": [
    "# array methods\n",
    "Array methods are facilitate efficient operations on numpy arrays."
   ]
  },
  {
   "cell_type": "markdown",
   "metadata": {},
   "source": [
    "<img src=\"http://www.dropbox.com/s/fcucolyuzdjl80k/todo.jpg?raw=1\" width=\"10%\" align=\"left\">\n",
    "Explain the meaning and explore the use of specific **array methods**.\n",
    "Add comments capturing the purpose and usage for the listed methods, and include other examples demonstrating different features."
   ]
  },
  {
   "cell_type": "code",
   "execution_count": 27,
   "metadata": {},
   "outputs": [
    {
     "name": "stdout",
     "output_type": "stream",
     "text": [
      "[1.  1.5 2.  2.5 3.  3.5 4.  4.5 5.  5.5]\n"
     ]
    }
   ],
   "source": [
    "a = np.arange(1,n,0.5)\n",
    "# Generate a numpy array of n elements starting at 1 and incrementing by .5 each element"
   ]
  },
  {
   "cell_type": "markdown",
   "metadata": {},
   "source": [
    "## ndarray.fill()\n",
    "Fill an array with a scalar value.\n",
    "\n",
    "`ndarray.fill(value)`"
   ]
  },
  {
   "cell_type": "code",
   "execution_count": 29,
   "metadata": {},
   "outputs": [
    {
     "name": "stdout",
     "output_type": "stream",
     "text": [
      "[-1. -1. -1. -1. -1. -1.]\n"
     ]
    }
   ],
   "source": [
    "a = np.empty( n )\n",
    "a.fill(-1.)\n",
    "print(a)\n",
    "# Generate an empty array of size n, then fill the array with a float of 1 in each element"
   ]
  },
  {
   "cell_type": "markdown",
   "metadata": {},
   "source": [
    "## ndarray.item()\n",
    "Copy an element of an array to a standard Python scalar and return it.\n",
    "\n",
    "`ndarray.item(*args)`"
   ]
  },
  {
   "cell_type": "code",
   "execution_count": 31,
   "metadata": {},
   "outputs": [
    {
     "name": "stdout",
     "output_type": "stream",
     "text": [
      "[1.  1.5 2.  2.5 3.  3.5 4.  4.5 5.  5.5]\n",
      "3.5\n"
     ]
    }
   ],
   "source": [
    "a = np.arange(1,n,0.5)\n",
    "print(a)\n",
    "print(a.item(5))\n",
    "# Generate a numpy array of n size and pull the 6th element or the array and return it"
   ]
  },
  {
   "cell_type": "markdown",
   "metadata": {},
   "source": [
    "## ndarray.nonzero()\n",
    "Return the indices of the elements that are non-zero.\n",
    "\n",
    "`ndarray.nonzero()`"
   ]
  },
  {
   "cell_type": "code",
   "execution_count": 33,
   "metadata": {},
   "outputs": [
    {
     "name": "stdout",
     "output_type": "stream",
     "text": [
      "[1 0 1 0 1]\n",
      "(array([0, 2, 4], dtype=int64),)\n"
     ]
    }
   ],
   "source": [
    "a = np.arange(1,n) %2\n",
    "print(a)\n",
    "print(a.nonzero())\n",
    "# After array generation return any element that is not a zero"
   ]
  },
  {
   "cell_type": "markdown",
   "metadata": {},
   "source": [
    "## ndarray.put()\n",
    "Replaces specified elements of an array with given values.\n",
    "\n",
    "`ndarray.put(ind, v, mode='raise'`)"
   ]
  },
  {
   "cell_type": "code",
   "execution_count": 35,
   "metadata": {},
   "outputs": [
    {
     "name": "stdout",
     "output_type": "stream",
     "text": [
      "[-1 -2  5  7 -3  8]\n"
     ]
    }
   ],
   "source": [
    "a = np.array( [4, 3, 5, 7, 6, 8] )\n",
    "indices = [0,1,4]\n",
    "values = [-1,-2,-3]\n",
    "a.put(indices,values)\n",
    "print(a)\n",
    "# Replace elements in numpy array with passed value"
   ]
  },
  {
   "cell_type": "markdown",
   "metadata": {},
   "source": [
    "## ndarray.clip()\n",
    "Clip (limit) the values in an array.\n",
    "\n",
    "`ndarray.clip(a_min, a_max, out=None)`"
   ]
  },
  {
   "cell_type": "code",
   "execution_count": 36,
   "metadata": {
    "scrolled": true
   },
   "outputs": [
    {
     "name": "stdout",
     "output_type": "stream",
     "text": [
      "[-2.  -1.5 -1.  -0.5  0.   0.5  1.   1.5  2.   2.5]\n"
     ]
    }
   ],
   "source": [
    "a = np.arange(1,n,0.5) - 3\n",
    "print(a)"
   ]
  },
  {
   "cell_type": "code",
   "execution_count": 38,
   "metadata": {
    "scrolled": true
   },
   "outputs": [
    {
     "name": "stdout",
     "output_type": "stream",
     "text": [
      "[-1.  -1.  -1.  -0.5  0.   0.5  1.   1.   1.   1. ]\n"
     ]
    }
   ],
   "source": [
    "print(a.clip(-1,1))\n",
    "# limit the values of all elements in an array to between -1 and 1"
   ]
  },
  {
   "cell_type": "markdown",
   "metadata": {},
   "source": [
    "## ndarray.round()\n",
    "Evenly round to the given number of decimals.\n",
    "\n",
    "`ndarray.around(decimals=0, out=None)`"
   ]
  },
  {
   "cell_type": "code",
   "execution_count": 40,
   "metadata": {},
   "outputs": [
    {
     "data": {
      "text/plain": [
       "array([1., 2., 2., 2., 3., 4., 4., 4., 5., 6.])"
      ]
     },
     "execution_count": 40,
     "metadata": {},
     "output_type": "execute_result"
    }
   ],
   "source": [
    "a = np.arange(1,n,0.5)\n",
    "a.round(0)\n",
    "# Round all elements in the array to zero decimal places"
   ]
  },
  {
   "cell_type": "markdown",
   "metadata": {},
   "source": [
    "## ndarray.sort()\n",
    "Return a sorted copy of an array.\n",
    "\n",
    "`ndarray.sort(axis=-1, kind='quicksort', order=None)`\n"
   ]
  },
  {
   "cell_type": "code",
   "execution_count": 42,
   "metadata": {},
   "outputs": [
    {
     "name": "stdout",
     "output_type": "stream",
     "text": [
      "[6 5 4 3 2]\n",
      "[2 3 4 5 6]\n"
     ]
    }
   ],
   "source": [
    "a = np.arange(n,1,-1)\n",
    "print(a)\n",
    "a.sort()\n",
    "print(a)\n",
    "# Reorders the array elements to index from lower to higher values"
   ]
  },
  {
   "cell_type": "markdown",
   "metadata": {},
   "source": [
    "## ndarray.take()\n",
    "Take elements from an array along an axis.\n",
    "\n",
    "`ndarray.take(indices, axis=None, out=None, mode='raise')`"
   ]
  },
  {
   "cell_type": "code",
   "execution_count": 44,
   "metadata": {},
   "outputs": [
    {
     "data": {
      "text/plain": [
       "array([4., 3., 6.])"
      ]
     },
     "execution_count": 44,
     "metadata": {},
     "output_type": "execute_result"
    }
   ],
   "source": [
    "a = np.array( [4, 3, 5, 7, 6, 8], dtype=float)\n",
    "indices = [0,1,4]\n",
    "a.take(indices)\n",
    "# Grab the values from an array at index values 0,1,4"
   ]
  },
  {
   "cell_type": "markdown",
   "metadata": {},
   "source": [
    "## ndarray.min()\n",
    "Return the minimum of an array or minimum along an axis.\n",
    "\n",
    "`ndarray.min(axis=None, out=None, keepdims=<class 'numpy._globals._NoValue'>)`\n",
    "\n",
    "## ndarray.max()\n",
    "Return the maximum of an array or maximum along an axis.\n",
    "\n",
    "`ndarray.max(axis=None, out=None, keepdims=<class 'numpy._globals._NoValue'>)`\n",
    "\n",
    "\n",
    "## ndarray.mean()\n",
    "Compute the arithmetic mean along the specified axis.\n",
    "\n",
    "`ndarray.mean(axis=None, dtype=None, out=None, keepdims=<class 'numpy._globals._NoValue'>)`\n",
    "\n",
    "\n",
    "## ndarray.std()\n",
    "Compute the standard deviation along the specified axis.\n",
    "\n",
    "`ndarray.std(axis=None, dtype=None, out=None, ddof=0, keepdims=<class 'numpy._globals._NoValue'>)`\n",
    "\n",
    "\n",
    "## ndarray.var()\n",
    "Compute the variance along the specified axis.\n",
    "\n",
    "`ndarray.var(axis=None, dtype=None, out=None, ddof=0, keepdims=<class 'numpy._globals._NoValue'>)\n",
    "`"
   ]
  },
  {
   "cell_type": "code",
   "execution_count": 46,
   "metadata": {},
   "outputs": [
    {
     "name": "stdout",
     "output_type": "stream",
     "text": [
      "3.0\n",
      "3.0\n",
      "5.5\n",
      "2.9166666666666665\n",
      "1.707825127659933\n"
     ]
    }
   ],
   "source": [
    "a = np.array( [4, 3, 5, 7, 6, 8], dtype=float)\n",
    "print(a.min())\n",
    "print(a.min())\n",
    "print(a.mean())\n",
    "print(a.var())\n",
    "print(a.std())\n",
    "# Return summary statistics of numpy arrays"
   ]
  },
  {
   "cell_type": "markdown",
   "metadata": {},
   "source": [
    "## ndarray.argmin()\n",
    "Returns the indices of the minimum values along an axis.\n",
    "\n",
    "`ndarray.argmin(axis=None, out=None)`\n",
    "\n",
    "## ndarray.argmax()\n",
    "Returns the indices of the maximum values along an axis.\n",
    "\n",
    "`ndarray.argmax(axis=None, out=None)`\n",
    "\n",
    "\n",
    "## ndarray.argsort()\n",
    "Returns the indices that would sort an array.\n",
    "\n",
    "`ndarray.argsort(axis=-1, kind='quicksort', order=None)`"
   ]
  },
  {
   "cell_type": "code",
   "execution_count": 48,
   "metadata": {},
   "outputs": [
    {
     "name": "stdout",
     "output_type": "stream",
     "text": [
      "[4. 3. 5. 7. 6. 8.]\n",
      "1\n",
      "5\n",
      "[1 0 2 4 3 5]\n"
     ]
    }
   ],
   "source": [
    "a = np.array( [4, 3, 5, 7, 6, 8], dtype=float )\n",
    "print(a)\n",
    "\n",
    "print(a.argmin())\n",
    "print(a.argmax())\n",
    "print(a.argsort())\n",
    "# Returns summary statistics of the numpy array in terms of indices"
   ]
  },
  {
   "cell_type": "markdown",
   "metadata": {},
   "source": [
    "## ndarray.sum()\n",
    "Return the sum of array elements over a given axis.\n",
    "\n",
    "`ndarray.sum(axis=None, dtype=None, out=None, keepdims=<class 'numpy._globals._NoValue'>)`\n",
    "\n",
    "## ndarray.prod()\n",
    "Return the product of array elements over a given axis.\n",
    "\n",
    "`ndarray.prod(axis=None, dtype=None, out=None, keepdims=<class 'numpy._globals._NoValue'>)`"
   ]
  },
  {
   "cell_type": "code",
   "execution_count": 50,
   "metadata": {},
   "outputs": [
    {
     "name": "stdout",
     "output_type": "stream",
     "text": [
      "[1 2 3 4 5]\n",
      "15\n",
      "120\n"
     ]
    }
   ],
   "source": [
    "a = np.arange(1,n)\n",
    "print(a)\n",
    "\n",
    "print(a.sum())\n",
    "print(a.prod())\n",
    "# Returns sum and product of all elements in an array"
   ]
  },
  {
   "cell_type": "markdown",
   "metadata": {},
   "source": [
    "## ndarray.cumsum()\n",
    "Return the cumulative sum of the elements along a given axis.\n",
    "\n",
    "`ndarray.cumsum(axis=None, dtype=None, out=None)`\n",
    "\n",
    "## ndarray.cumprod()\n",
    "Return the cumulative product of the elements along a given axis.\n",
    "\n",
    "`ndarray.cumprod(axis=None, dtype=None, out=None)`"
   ]
  },
  {
   "cell_type": "code",
   "execution_count": 52,
   "metadata": {},
   "outputs": [
    {
     "name": "stdout",
     "output_type": "stream",
     "text": [
      "[1 2 3 4 5]\n",
      "[ 1  3  6 10 15]\n",
      "[  1   2   6  24 120]\n"
     ]
    }
   ],
   "source": [
    "a = np.arange(1,n)\n",
    "print(a)\n",
    "\n",
    "print(a.cumsum())\n",
    "print(a.cumprod())\n",
    "# Calculate cumultive values of sum and products of the array"
   ]
  },
  {
   "cell_type": "markdown",
   "metadata": {},
   "source": [
    "## ndarray.real\n",
    "Return the real part of the complex argument.\n",
    "\n",
    "`ndarray.real`\n",
    "\n",
    "\n",
    "## ndarray.imag\n",
    "Return the imaginary part of the complex argument.\n",
    "\n",
    "`ndarray.real`"
   ]
  },
  {
   "cell_type": "code",
   "execution_count": 53,
   "metadata": {
    "scrolled": false
   },
   "outputs": [
    {
     "name": "stdout",
     "output_type": "stream",
     "text": [
      "[4.+0.j 3.+0.j 5.+0.j 7.+0.j 6.+0.j 8.+0.j]\n",
      "[4. 3. 5. 7. 6. 8.]\n",
      "[0. 0. 0. 0. 0. 0.]\n"
     ]
    }
   ],
   "source": [
    "a = np.array( [4, 3, 5, 7, 6, 8], dtype=complex)\n",
    "print(a)\n",
    "\n",
    "print(a.real)\n",
    "print(a.imag)\n",
    "# For each element in a numpy array return the real and imaginary values of it"
   ]
  },
  {
   "cell_type": "markdown",
   "metadata": {},
   "source": [
    "<img src=\"https://www.dropbox.com/s/wj23ce93pa9j8pe/demo.png?raw=1\" width=\"10%\" align=\"left\">\n",
    "# Exercise\n",
    "\n",
    "A sequence for computing number $\\pi$ credited to the mathematician **Gottfried Leibniz** is:\n",
    "\n",
    "$\\dfrac{\\pi}{4} = \\sum\\limits_{i=1}^{n} \\dfrac{ (-1)^{i+1} }{2i-1}$\n",
    "\n",
    "* Use numpy to compute number $\\pi$ for a set number of terms.\n",
    "* Compare this approximation with the $\\pi$ value provided by the `math` module."
   ]
  },
  {
   "cell_type": "code",
   "execution_count": 1,
   "metadata": {},
   "outputs": [],
   "source": [
    "n = 1000"
   ]
  },
  {
   "cell_type": "markdown",
   "metadata": {},
   "source": [
    "Define a numpy array for integers $i<n$:"
   ]
  },
  {
   "cell_type": "code",
   "execution_count": 4,
   "metadata": {
    "scrolled": true
   },
   "outputs": [],
   "source": [
    "i = np.arange(1,n)"
   ]
  },
  {
   "cell_type": "markdown",
   "metadata": {},
   "source": [
    "Compute the terms of the series using array operations:"
   ]
  },
  {
   "cell_type": "code",
   "execution_count": 5,
   "metadata": {},
   "outputs": [],
   "source": [
    "myTerms = 4.0*( pow(-1,i+1) / (2*i-1) )"
   ]
  },
  {
   "cell_type": "markdown",
   "metadata": {},
   "source": [
    "Compute $\\pi$ using numpy functions:"
   ]
  },
  {
   "cell_type": "code",
   "execution_count": 6,
   "metadata": {},
   "outputs": [],
   "source": [
    "myPi = myTerms.sum()"
   ]
  },
  {
   "cell_type": "markdown",
   "metadata": {},
   "source": [
    "Compare the user-defined $\\pi$ with the one provided by `math`:"
   ]
  },
  {
   "cell_type": "code",
   "execution_count": 18,
   "metadata": {},
   "outputs": [
    {
     "name": "stdout",
     "output_type": "stream",
     "text": [
      "     my pi: 3.3396825396825403\n",
      "   math pi: 3.141592653589793\n",
      "difference: 0.19808988609274714\n"
     ]
    }
   ],
   "source": [
    "import math\n",
    "\n",
    "print('     my pi:',myPi)\n",
    "print('   math pi:',math.pi)\n",
    "print('difference:',myPi-math.pi)"
   ]
  },
  {
   "cell_type": "markdown",
   "metadata": {},
   "source": [
    "<img src=\"https://www.dropbox.com/s/wj23ce93pa9j8pe/demo.png?raw=1\" width=\"10%\" align=\"left\">\n",
    "# Exercise\n",
    "\n",
    "Use a NumPy array to approximate $\\pi$ using the equation\n",
    "\n",
    "$\\pi \\approx \\sqrt{12} \\sum\\limits_{i=0}^{n} \\dfrac{(-3)^{-i}}{2i+1}$.\n",
    "\n",
    "* Use numpy to compute number $\\pi$ for a set number of terms.\n",
    "* Compare this approximation with the $\\pi$ value provided by the `math` module."
   ]
  },
  {
   "cell_type": "code",
   "execution_count": 1,
   "metadata": {},
   "outputs": [
    {
     "ename": "NameError",
     "evalue": "name 'np' is not defined",
     "output_type": "error",
     "traceback": [
      "\u001b[1;31m---------------------------------------------------------------------------\u001b[0m",
      "\u001b[1;31mNameError\u001b[0m                                 Traceback (most recent call last)",
      "\u001b[1;32m<ipython-input-1-052aee61526d>\u001b[0m in \u001b[0;36m<module>\u001b[1;34m()\u001b[0m\n\u001b[0;32m      1\u001b[0m \u001b[1;32mimport\u001b[0m \u001b[0mmath\u001b[0m\u001b[1;33m\u001b[0m\u001b[0m\n\u001b[0;32m      2\u001b[0m \u001b[0mn\u001b[0m \u001b[1;33m=\u001b[0m \u001b[1;36m1000\u001b[0m\u001b[1;33m\u001b[0m\u001b[0m\n\u001b[1;32m----> 3\u001b[1;33m \u001b[0mi\u001b[0m \u001b[1;33m=\u001b[0m \u001b[0mnp\u001b[0m\u001b[1;33m.\u001b[0m\u001b[0marange\u001b[0m\u001b[1;33m(\u001b[0m\u001b[1;36m0\u001b[0m\u001b[1;33m,\u001b[0m\u001b[0mn\u001b[0m\u001b[1;33m)\u001b[0m\u001b[1;33m\u001b[0m\u001b[0m\n\u001b[0m\u001b[0;32m      4\u001b[0m \u001b[0mnewTerms\u001b[0m \u001b[1;33m=\u001b[0m \u001b[1;33m(\u001b[0m\u001b[0mpow\u001b[0m\u001b[1;33m(\u001b[0m\u001b[1;33m-\u001b[0m\u001b[1;36m3.0\u001b[0m\u001b[1;33m,\u001b[0m \u001b[1;33m-\u001b[0m\u001b[0mi\u001b[0m\u001b[1;33m)\u001b[0m\u001b[1;33m/\u001b[0m\u001b[1;33m(\u001b[0m\u001b[1;33m(\u001b[0m\u001b[1;36m2.0\u001b[0m\u001b[1;33m*\u001b[0m\u001b[0mi\u001b[0m\u001b[1;33m)\u001b[0m \u001b[1;33m+\u001b[0m \u001b[1;36m1\u001b[0m\u001b[1;33m)\u001b[0m\u001b[1;33m)\u001b[0m\u001b[1;33m\u001b[0m\u001b[0m\n\u001b[0;32m      5\u001b[0m \u001b[0malmostPi\u001b[0m \u001b[1;33m=\u001b[0m \u001b[0mnewTerms\u001b[0m\u001b[1;33m.\u001b[0m\u001b[0msum\u001b[0m\u001b[1;33m(\u001b[0m\u001b[1;33m)\u001b[0m\u001b[1;33m\u001b[0m\u001b[0m\n",
      "\u001b[1;31mNameError\u001b[0m: name 'np' is not defined"
     ]
    }
   ],
   "source": [
    "import math\n",
    "n = 1000\n",
    "i = np.arange(0,n)\n",
    "newTerms = (pow(-3.0, -i)/((2.0*i) + 1))\n",
    "almostPi = newTerms.sum()\n",
    "newPi = math.sqrt(12.0) * almostPi\n",
    "print(newPi)\n",
    "# Compare my PI to math.pi\n",
    "print('     my pi:',newPi)\n",
    "print('   math pi:',math.pi)\n",
    "print('difference:',newPi-math.pi)"
   ]
  },
  {
   "cell_type": "code",
   "execution_count": null,
   "metadata": {},
   "outputs": [],
   "source": []
  }
 ],
 "metadata": {
  "kernelspec": {
   "display_name": "Python 3",
   "language": "python",
   "name": "python3"
  },
  "language_info": {
   "codemirror_mode": {
    "name": "ipython",
    "version": 3
   },
   "file_extension": ".py",
   "mimetype": "text/x-python",
   "name": "python",
   "nbconvert_exporter": "python",
   "pygments_lexer": "ipython3",
   "version": "3.6.5"
  }
 },
 "nbformat": 4,
 "nbformat_minor": 2
}
