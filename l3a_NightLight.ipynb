{
 "cells": [
  {
   "cell_type": "markdown",
   "metadata": {},
   "source": [
    "<div style=\"float: left; width: 25%;\">\n",
    "<ul>\n",
    "<img src=\"http://www.minesnewsroom.com/sites/default/files/wysiwyg-editor/photos/CO-Mines-logo-stacked-4C-200x235w.png\" style=\"height: 115px;\">\n",
    "</ul>\n",
    "</div>\n",
    "\n",
    "<div style=\"float: right; width: 75%;\">\n",
    "<ul>\n",
    "    <h1> CSCI 250 - Building a Sensor System </h1>\n",
    "    <span style=\"color:red\">\n",
    "        <h2> Lab 3a: Night Light </h2>\n",
    "        <h3> Your Name: Bart Simpson </h3>\n",
    "    </span>\n",
    "</ul>\n",
    "</div>"
   ]
  },
  {
   "cell_type": "markdown",
   "metadata": {},
   "source": [
    "# Introduction\n",
    "\n",
    "This goal of this lab is to make a light turn on/off depending on the ambient light. We will use the resistance provided by a potentiometer to set a darkness threshold. This setup could be used as a night light or for holiday decorations."
   ]
  },
  {
   "cell_type": "markdown",
   "metadata": {},
   "source": [
    "# Before you begin\n",
    "\n",
    "<img src=\"http://www.dropbox.com/s/fcucolyuzdjl80k/todo.jpg?raw=1\" width=\"10%\" align=\"left\">\n",
    "\n",
    "Begin by reviewing the following notebooks:\n",
    "* [ADC](h_ADC.ipynb) to understand how to measure analog voltages;\n",
    "* [Potentiometer](h_Potentiometer.ipynb) to understand how to connect it correctly;\n",
    "* [Photoresistor](h_Photoresistor.ipynb) to understand how to connect it correctly.\n",
    "\n",
    "Do not take apart your ADC circuit - it will be used extensively in this lab. Build the circuits and run the codes in those notebooks to make sure everything is working correctly. \n",
    "\n",
    "To check your understanding, answer the following questions below before proceeding with the lab."
   ]
  },
  {
   "cell_type": "markdown",
   "metadata": {},
   "source": [
    "## Potentiometer\n",
    "\n",
    "1. What could happen if you connected 3.3V and GND to an outer and the middle pins?\n",
    "    * Your answer here\n",
    "2. How does the output voltage change as you turn the knob of the potentiometer?\n",
    "    * Your answer here\n",
    "3. What do you think would happen if you connected the output of the potentiometer to a GPIO pin?\n",
    "    * Your answer here\n",
    "\n",
    "## Photoresistor\n",
    "\n",
    "1. How must the photoresistor be wired in order to use it? (Hint: this configuration has a name!)\n",
    "    * Your answer here\n",
    "2. How does the resistance change with light intensity?\n",
    "    * Your answer here\n",
    "3. What range of resistances **do you measure** from the photoresistor?\n",
    "    * Your answer here\n",
    "    "
   ]
  },
  {
   "cell_type": "markdown",
   "metadata": {},
   "source": [
    "# Lab Directions\n",
    "\n",
    "Your goal for this lab is to create a night light: use the photoresistor to detect when it becomes dark (you can simulate darkness by covering it with your hands), then turn on an LED. How do you know when it has become dark enough? You need to use the potentiometer to set a threshold for the darkness at which to turn on the LED.\n",
    "\n",
    "**Specific lab requirements**:\n",
    "* Use the `readADC()` function in `spiUtils.py` to measure the voltages from the potentiometer and the photoresistor.\n",
    "    * Calculate the resistance of the photoresistor from the measured voltage.\n",
    "* Use the potentiometer voltage to determine the threshold **resistance** of the photoresistor.\n",
    "* Once the photoresistor **resistance** goes beyond the threshold set by the potentiometer, turn on an LED.\n",
    "    * Don't just compare the voltage outputs of the 2 sensors, **calculate the actual resistance** of the photoresistor and set a threshold resistance from the potentiometer voltage.\n",
    "* When it becomes light again (beyond the threshold), turn off the LED.\n",
    "\n",
    "To make it easier for us to test your code, please have the potentiometer and photoresistor connected to channels 0 and 1 of the ADC respectively. Also connect the LED to GPIO pin 20. If you decide to do extra credit with different hardware, please specify the pin connections.\n",
    "\n",
    "Begin your answer from the starter code provided below. Make use of knowledge acquired during previous labs. Add comments throughout your code so we can understand what it does. Even if you can't figure out how to write the code for something, a comment explaining what you wanted will get partial credit.\n",
    "\n",
    "**Extra credit**:\n",
    "* Figure out a way to slowly dim the light near the threshold using [pulse-width modulation (PWM)](https://en.wikipedia.org/wiki/Pulse-width_modulation) rather than instantly turning on/off.\n",
    "* Anything of your own creation that you feel is worthy of extra credit. Be sure to explain clearly your intentions."
   ]
  },
  {
   "cell_type": "code",
   "execution_count": null,
   "metadata": {
    "collapsed": true
   },
   "outputs": [],
   "source": [
    "import RPi.GPIO as GPIO\n",
    "import spiUtils as su\n",
    "\n",
    "# setup GPIO here\n",
    "\n",
    "try:\n",
    "    while True:       # loop forever\n",
    "\n",
    "        # add your code here\n",
    "\n",
    "except(KeyboardInterrupt, SystemExit):\n",
    "    print(\"Interrupt!\")\n",
    "\n",
    "finally:\n",
    "    print(\"Done!\")\n",
    "    spi.close()      # close ADC\n",
    "    GPIO.cleanup();  # close GPIO"
   ]
  },
  {
   "cell_type": "markdown",
   "metadata": {},
   "source": [
    "# Post Lab\n",
    "\n",
    "<img src=\"http://www.dropbox.com/s/fcucolyuzdjl80k/todo.jpg?raw=1\" width=\"10%\" align=\"left\">\n",
    "\n",
    "Before you submit the lab, make sure everything works as you expect by restarting the kernel (Jupyter menu bar -> Kernel -> Restart & Run All). This will ensure there are no compilation errors when we test your code.\n",
    "\n",
    "<br><br>\n",
    "\n",
    "Once you complete the lab assignment, answer the following questions. Please give honest answers - you'll get full credit even if you tell us you hated this lab.\n",
    "\n",
    "1. What elements of this lab did you find easy/challenging?\n",
    "    * Your answer here\n",
    "2. What did you like/dislike about this lab?\n",
    "    * Your answer here\n",
    "3. If you did anything worthy of extra credit, tell us about it here!\n",
    "    * Your answer here"
   ]
  },
  {
   "cell_type": "markdown",
   "metadata": {},
   "source": [
    "# Honor code\n",
    "Unless explicitly specified, labs are **individual exercises**. Your submission is subject to the [**Mines Honor Code**](http://inside.mines.edu/~epoeter/_GW/CSMHonorCodeUndergradHandbook.pdf)."
   ]
  }
 ],
 "metadata": {
  "anaconda-cloud": {},
  "kernelspec": {
   "display_name": "Python 3",
   "language": "python",
   "name": "python3"
  },
  "language_info": {
   "codemirror_mode": {
    "name": "ipython",
    "version": 3
   },
   "file_extension": ".py",
   "mimetype": "text/x-python",
   "name": "python",
   "nbconvert_exporter": "python",
   "pygments_lexer": "ipython3",
   "version": "3.6.5"
  }
 },
 "nbformat": 4,
 "nbformat_minor": 2
}
