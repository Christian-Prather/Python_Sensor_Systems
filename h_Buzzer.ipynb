{
 "cells": [
  {
   "cell_type": "markdown",
   "metadata": {},
   "source": [
    "<div style=\"float: left; width: 25%;\">\n",
    "<ul>\n",
    "<img src=\"http://www.minesnewsroom.com/sites/default/files/wysiwyg-editor/photos/CO-Mines-logo-stacked-4C-200x235w.png\" style=\"height: 115px;\">\n",
    "</ul>\n",
    "</div>\n",
    "\n",
    "<div style=\"float: right; width: 75%;\">\n",
    "<ul>\n",
    "    <h1> CSCI 250 - Building a Sensor System </h1>\n",
    "    <span style=\"color:red\">\n",
    "        <h2> Buzzer </h2>\n",
    "    </span>\n",
    "</ul>\n",
    "</div>"
   ]
  },
  {
   "cell_type": "markdown",
   "metadata": {},
   "source": [
    "# Introduction\n",
    "\n",
    "<img src=\"https://cdn.sparkfun.com//assets/parts/6/2/3/07950-1.jpg\" width=\"30%\" align=\"right\">\n",
    "\n",
    "Buzzers are small speakers typically designed to produce only 1 frequency at a time, often with a square wave instead of a sine wave. Because of this, they are great for use with microcontrollers like an RPi for user feedback or other outputs. You can learn more about buzzers on [this page](https://en.wikipedia.org/wiki/Buzzer)."
   ]
  },
  {
   "cell_type": "markdown",
   "metadata": {},
   "source": [
    "# Wiring\n",
    "\n",
    "Buzzers are relatively simple to wire up. If you look at the bottom, there are 2 pins sticking out. The one labeled `-` should be connected to GND and the one labeled `+` should be connected to a GPIO pin.\n",
    "\n",
    "<img src=\"https://www.dropbox.com/s/n08rc2o9ycgbr2y/wiring_buzzer.PNG?raw=1\" width=\"50%\" align=\"left\">\n",
    "\n",
    "<img src=\"https://www.dropbox.com/s/9aw460t1laupu4o/circuit_buzzer.jpg?raw=1\" width=\"50%\" align=\"right\">"
   ]
  },
  {
   "cell_type": "markdown",
   "metadata": {},
   "source": [
    "# Programming\n",
    "\n",
    "In order to make the buzzer buzz, we need to input a square wave into it. There are a few ways to do this: write our own code to create a square wave on the GPIO pin or make use of the PWM library. Each is described below."
   ]
  },
  {
   "cell_type": "markdown",
   "metadata": {},
   "source": [
    "## Custom Square Wave\n",
    "\n",
    "This approach to creating the square wave uses a loop where we first set the GPIO pin high, wait a bit, set it low, wait a bit, and repeat until we're done. By this point you should be fairly familiar with how to approach this, so you should be able to read the code below to understand what it does."
   ]
  },
  {
   "cell_type": "code",
   "execution_count": null,
   "metadata": {},
   "outputs": [],
   "source": [
    "# Need these libraries!\n",
    "import RPi.GPIO as GPIO\n",
    "import time\n",
    "\n",
    "# Use GPIO numbering\n",
    "GPIO.setmode(GPIO.BCM)\n",
    "\n",
    "# Always a good idea to assign a variable for the pin numer\n",
    "buzzerPin = 27\n",
    "\n",
    "# Set the GPIO pin to output mode!\n",
    "GPIO.setup(buzzerPin, GPIO.OUT)\n",
    "\n",
    "# The frequency of the sound we want to hear\n",
    "frequency = 1000\n",
    "\n",
    "# Amount of time we want to play in seconds\n",
    "duration = 3\n",
    "\n",
    "# Calculate number of cycles given frequency and duration\n",
    "cycles = duration * frequency\n",
    "\n",
    "# Loop until we're done\n",
    "for i in range(cycles):\n",
    "    # Create a swaure wave by outputting high, waiting, outputting low, waiting, then repeating\n",
    "    GPIO.output(buzzerPin, True)\n",
    "    time.sleep(1 / (frequency * 2))\n",
    "    GPIO.output(buzzerPin, False)\n",
    "    time.sleep(1 / (frequency * 2))\n",
    "\n",
    "# Always cleanup the GPIO pins when you're done\n",
    "GPIO.cleanup()\n",
    "\n",
    "print(\"Done!\")"
   ]
  },
  {
   "cell_type": "markdown",
   "metadata": {},
   "source": [
    "You may have noticed that the audio sounded wobbly and it went longer than 3 seconds. The reason is because `time.sleep()` is actually very inaccurate for short timing. Sleep methods usually only have an accuracy of a few milliseconds, but to produce the 1kHz audio like we want, we need to sleep for 0.5ms! That's one of the big problems with this approach, the other being that you can't do anything else while controlling the buzzer. If either of those are important to you, that's where the PWM library becomes useful!"
   ]
  },
  {
   "cell_type": "markdown",
   "metadata": {},
   "source": [
    "## PWM Library\n",
    "\n",
    "PWM stands for pulse width modulation, which is basically the same thing we tried to create in the section above. However the library has a couple major advantages over the previous technique. First, it uses slightly more accurate timing that our previous approach. It's still wobbly, but usually a bit better. Second, it creates a separate thread to control the toggling of the GPIO pin, meaning you can run other code while the buzzer is buzzing!\n",
    "\n",
    "The PWM library is actually a subset of the GPIO library, so we still need that in our code along with the usual GPIO setup. Once we've done that, we create a new PWM object like so: `buzzer = GPIO.PWM(pin, frequency)` where the parameters are thin GPIO pin for the buzzer and the frequency at which you want to run the buzzer. In order to start the square wave, we use `buzzer.start(dutyCycle)`; duty cycle is explained more below. Read through the code in the cell below and run it. Note that once you do, it won't stop buzzing until you stop it!"
   ]
  },
  {
   "cell_type": "code",
   "execution_count": null,
   "metadata": {
    "scrolled": true
   },
   "outputs": [],
   "source": [
    "# Need the GPIO library!\n",
    "import RPi.GPIO as GPIO\n",
    "\n",
    "# Use GPIO numbering\n",
    "GPIO.setmode(GPIO.BCM)\n",
    "\n",
    "# Always a good idea to assign a variable for the pin numer\n",
    "buzzerPin = 27\n",
    "\n",
    "# Set the GPIO pin to output mode!\n",
    "GPIO.setup(buzzerPin, GPIO.OUT)\n",
    "\n",
    "# Get ready to start buzzing at 1kHz\n",
    "buzzer = GPIO.PWM(buzzerPin, 1000)\n",
    "\n",
    "# Start buzzing forever!\n",
    "buzzer.start(50)\n",
    "\n",
    "print(\"Done!\")"
   ]
  },
  {
   "cell_type": "markdown",
   "metadata": {},
   "source": [
    "Now your buzzer should again be buzzing at the same frequency as before, but hopefully sounds a bit less wobbly. There's a couple more options that you can change with the square wave: the frequency and duty cycle. Frequency is fairly obvious: higher values have a higher pitch. Duty cycle is the percent time the square wave spends high vs. low. For example, 50% duty cycle mean half off/on, 0% is always off, and 100% is always on. Changing the duty cycle isn't very important for buzzers, but can be useful in other applications. You can change both of these with the following methods:"
   ]
  },
  {
   "cell_type": "code",
   "execution_count": null,
   "metadata": {},
   "outputs": [],
   "source": [
    "# Change frequency (any positive number)\n",
    "buzzer.ChangeFrequency(1500)\n",
    "\n",
    "# Change duty cycle (0-100)\n",
    "buzzer.ChangeDutyCycle(20)"
   ]
  },
  {
   "cell_type": "markdown",
   "metadata": {},
   "source": [
    "Feel free to use those and experiment with different frequencies and duty cycles. Once you're done, run the code in the cell below to stop the buzzer."
   ]
  },
  {
   "cell_type": "code",
   "execution_count": null,
   "metadata": {},
   "outputs": [],
   "source": [
    "# Stop buzzing!\n",
    "buzzer.stop()\n",
    "\n",
    "# We're done here, cleanup!\n",
    "GPIO.cleanup()\n",
    "\n",
    "print(\"Done!\")"
   ]
  },
  {
   "cell_type": "markdown",
   "metadata": {},
   "source": [
    "# Debugging\n",
    "\n",
    "Useful debugging tips for any time during the semester!\n",
    "\n",
    "* I get error messages when I run my code.\n",
    "    * There's probably an issue with your code, not any of the components! Read the error message and try to understand what it's telling you in order to fix it. If you're not sure, ask someone to help you!\n",
    "* The buzzer doesn't make any sounds\n",
    "    * There's a good chance that you've done your wiring incorrectly or there's a bug in your code. Double check both of these for any errors first!\n",
    "    * Make sure you're outputting an alternating square wave for the buzzer, and not just setting it to a high voltage. We need AC, not DC.\n",
    "    * If you're convinced that your buzzer is broken, try using your neighbor's buzzer. If the new one works, yours is likely broken.\n",
    "    * If nothing above works, you may be having another issue; raise your hand and we'll come help you."
   ]
  }
 ],
 "metadata": {
  "kernelspec": {
   "display_name": "Python 3",
   "language": "python",
   "name": "python3"
  },
  "language_info": {
   "codemirror_mode": {
    "name": "ipython",
    "version": 3
   },
   "file_extension": ".py",
   "mimetype": "text/x-python",
   "name": "python",
   "nbconvert_exporter": "python",
   "pygments_lexer": "ipython3",
   "version": "3.6.5"
  }
 },
 "nbformat": 4,
 "nbformat_minor": 2
}
