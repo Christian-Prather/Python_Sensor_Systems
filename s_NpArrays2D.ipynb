{
 "cells": [
  {
   "cell_type": "markdown",
   "metadata": {},
   "source": [
    "<div style=\"float: left; width: 25%;\">\n",
    "<ul>\n",
    "<img src=\"http://www.minesnewsroom.com/sites/default/files/wysiwyg-editor/photos/CO-Mines-logo-stacked-4C-200x235w.png\" style=\"height: 115px;\">\n",
    "</ul>\n",
    "</div>\n",
    "\n",
    "<div style=\"float: right; width: 75%;\">\n",
    "<ul>\n",
    "    <h1> CSCI 250 - Building a Sensor System </h1>\n",
    "    <span style=\"color:red\">\n",
    "        <h2> 2D numpy arrays </h2>\n",
    "    </span>\n",
    "</ul>\n",
    "</div>"
   ]
  },
  {
   "cell_type": "markdown",
   "metadata": {},
   "source": [
    "# Objectives\n",
    "* Introduce ND numpy arrays and operations\n",
    "* Discuss numpy array \n",
    "    * attributes\n",
    "    * reshaping\n",
    "    * slicing & striding"
   ]
  },
  {
   "cell_type": "markdown",
   "metadata": {},
   "source": [
    "# Resources\n",
    "* [Numpy.org](http://www.numpy.org)"
   ]
  },
  {
   "cell_type": "markdown",
   "metadata": {},
   "source": [
    "# import\n",
    "Numpy comes with lots of functions specifically designed for array operations. Numpy **methods** can be accessed by typing the module name, followed by a dot, followed by the **TAB** key. The name of the method followed by **?** returns the associated selfdoc. Also, each numpy objects has specific associated methods which can be accessed using the same procedure."
   ]
  },
  {
   "cell_type": "code",
   "execution_count": null,
   "metadata": {},
   "outputs": [],
   "source": [
    "import numpy as np"
   ]
  },
  {
   "cell_type": "code",
   "execution_count": null,
   "metadata": {},
   "outputs": [],
   "source": [
    "nRows = 3 # number of rows\n",
    "nCols = 4 # number of columns\n",
    "\n",
    "n  = nRows * nCols"
   ]
  },
  {
   "cell_type": "markdown",
   "metadata": {},
   "source": [
    "# array ordering\n",
    "Numpy arrays can be of different kinds:\n",
    "*    **row major**: consecutive elements of a row reside contiguous in memory\n",
    "* **column major**: consecutive elements of a column reside contiguous in memory\n",
    "\n",
    "Numpy **defaults to row major**. It is thus advantageous to access array elements in rows, which is efficient due to **caching**, i.e. a process that anticipates data use from nearby memory locations."
   ]
  },
  {
   "cell_type": "markdown",
   "metadata": {},
   "source": [
    "# array creation\n",
    "There are multiple mechanisms to define ND numpy arrays."
   ]
  },
  {
   "cell_type": "markdown",
   "metadata": {},
   "source": [
    "## list conversion\n",
    "Use the function **array** to create a numpy array from a Python list of lists.\n",
    "\n",
    "`np.array(object, dtype=None, copy=True, order='K', subok=False, ndmin=0)`"
   ]
  },
  {
   "cell_type": "code",
   "execution_count": null,
   "metadata": {
    "scrolled": false
   },
   "outputs": [],
   "source": [
    "x = np.array( [ [2,3,4,5], [3,4,5,6], [4,5,6,7] ], dtype='float')\n",
    "print(x)\n",
    "type(x)"
   ]
  },
  {
   "cell_type": "markdown",
   "metadata": {},
   "source": [
    "## zeros()\n",
    "Returns a new array of given shape and type, filled with zeros.\n",
    "\n",
    "`np.zeros(shape, dtype=None, order='C')`"
   ]
  },
  {
   "cell_type": "code",
   "execution_count": null,
   "metadata": {},
   "outputs": [],
   "source": [
    "zI = np.zeros( [nRows,nCols], dtype=int)\n",
    "zF = np.zeros( [nRows,nCols], dtype=float)\n",
    "zB = np.zeros( [nRows,nCols], dtype=bool)\n",
    "zC = np.zeros( [nRows,nCols], dtype=complex)"
   ]
  },
  {
   "cell_type": "code",
   "execution_count": null,
   "metadata": {
    "scrolled": true
   },
   "outputs": [],
   "source": [
    "print(zI)\n",
    "print(zF)\n",
    "print(zB)\n",
    "print(zC)"
   ]
  },
  {
   "cell_type": "markdown",
   "metadata": {},
   "source": [
    "## ones()\n",
    "Returns a new array of given shape and type, filled with ones.\n",
    "\n",
    "`np.ones(shape, dtype=None, order='C')`"
   ]
  },
  {
   "cell_type": "code",
   "execution_count": null,
   "metadata": {},
   "outputs": [],
   "source": [
    "oI = np.ones( [nRows,nCols], dtype=int)\n",
    "oF = np.ones( [nRows,nCols], dtype=float)\n",
    "oB = np.ones( [nRows,nCols], dtype=bool)\n",
    "oC = np.ones( [nRows,nCols], dtype=complex)"
   ]
  },
  {
   "cell_type": "code",
   "execution_count": null,
   "metadata": {},
   "outputs": [],
   "source": [
    "print(oI)\n",
    "print(oF)\n",
    "print(oB)\n",
    "print(oC)"
   ]
  },
  {
   "cell_type": "markdown",
   "metadata": {},
   "source": [
    "# array indexing\n",
    "\n",
    "We can access an element of the array with a list consisting of the row and column indexes."
   ]
  },
  {
   "cell_type": "code",
   "execution_count": null,
   "metadata": {},
   "outputs": [],
   "source": [
    "a = np.ones( [nRows,nCols], dtype='float')\n",
    "print(a)"
   ]
  },
  {
   "cell_type": "code",
   "execution_count": null,
   "metadata": {
    "scrolled": true
   },
   "outputs": [],
   "source": [
    "irow = 1       # starts w/ 0\n",
    "icol = 2       # starts w/ 0\n",
    "\n",
    "a[irow,icol] = 0\n",
    "print(a)"
   ]
  },
  {
   "cell_type": "code",
   "execution_count": null,
   "metadata": {},
   "outputs": [],
   "source": [
    "# can also use negative indexes\n",
    "a[-1,-1] = 2\n",
    "print(a)"
   ]
  },
  {
   "cell_type": "markdown",
   "metadata": {},
   "source": [
    "# array slicing\n",
    "\n",
    "Indexing 2D numpy arrays is done by listing the row/col indexe (comma separated) within the square bracket."
   ]
  },
  {
   "cell_type": "code",
   "execution_count": null,
   "metadata": {},
   "outputs": [],
   "source": [
    "a = np.ones( [nRows,nCols] , dtype='float')\n",
    "print(a)"
   ]
  },
  {
   "cell_type": "code",
   "execution_count": null,
   "metadata": {
    "scrolled": true
   },
   "outputs": [],
   "source": [
    "irow = 1       # starts w/ 0\n",
    "icol = 2       # starts w/ 0\n",
    "\n",
    "a[ irow:irow+2, icol:icol+2 ] = 0\n",
    "print(a)"
   ]
  },
  {
   "cell_type": "markdown",
   "metadata": {},
   "source": [
    "# array attributes\n",
    "Array attributes reflect information that is intrinsic to the array itself and allow to get and set intrinsic properties of the array without creating a new array. "
   ]
  },
  {
   "cell_type": "markdown",
   "metadata": {},
   "source": [
    "<img src=\"http://www.dropbox.com/s/fcucolyuzdjl80k/todo.jpg?raw=1\" width=\"10%\" align=\"left\">\n",
    "Explain the meaning and explore the use of specific **array attributes**.\n",
    "Add comments capturing the purpose and usage for the methods listed, and include other examples demonstrating different features."
   ]
  },
  {
   "cell_type": "code",
   "execution_count": null,
   "metadata": {},
   "outputs": [],
   "source": [
    "o = np.ones( [nRows,nCols] )"
   ]
  },
  {
   "cell_type": "code",
   "execution_count": null,
   "metadata": {},
   "outputs": [],
   "source": [
    "o.ndim"
   ]
  },
  {
   "cell_type": "code",
   "execution_count": null,
   "metadata": {
    "scrolled": false
   },
   "outputs": [],
   "source": [
    "o.shape"
   ]
  },
  {
   "cell_type": "code",
   "execution_count": null,
   "metadata": {},
   "outputs": [],
   "source": [
    "o.size"
   ]
  },
  {
   "cell_type": "code",
   "execution_count": null,
   "metadata": {
    "scrolled": true
   },
   "outputs": [],
   "source": [
    "o.dtype"
   ]
  },
  {
   "cell_type": "code",
   "execution_count": null,
   "metadata": {
    "scrolled": false
   },
   "outputs": [],
   "source": [
    "o.nbytes"
   ]
  },
  {
   "cell_type": "markdown",
   "metadata": {},
   "source": [
    "# array methods\n",
    "Array methods are facilitate efficient operations on numpy arrays. ND numpy arrays inherit the methods discussed for 1D arrays, but also add a few additional methods tuned for multidimensional arrays."
   ]
  },
  {
   "cell_type": "markdown",
   "metadata": {},
   "source": [
    "<img src=\"http://www.dropbox.com/s/fcucolyuzdjl80k/todo.jpg?raw=1\" width=\"10%\" align=\"left\">\n",
    "Explain the meaning and explore the use of specific **array methods**.\n",
    "Add comments capturing the purpose and usage for the listed methods, and include other examples demonstrating different features."
   ]
  },
  {
   "cell_type": "markdown",
   "metadata": {},
   "source": [
    "## ndarray.reshape()\n",
    "Gives a new shape to an array without changing its data.\n",
    "\n",
    "`ndarray.reshape(a, newshape, order='C')`\n",
    "\n",
    "The parameter **order** indicates how the elements of the numpy array are organized in rows and columns.\n",
    "* `order='C'`: last index changing fastest (**C convention**)\n",
    "* `order='F'`: first index changing fastest (**Fortran convention**)\n",
    "\n",
    "**NB**: The function reshape does not make a copy of the original array. "
   ]
  },
  {
   "cell_type": "code",
   "execution_count": null,
   "metadata": {
    "scrolled": false
   },
   "outputs": [],
   "source": [
    "a = np.arange(n, dtype='float')\n",
    "print(a)"
   ]
  },
  {
   "cell_type": "markdown",
   "metadata": {},
   "source": [
    "### C convention - last index changing fastest"
   ]
  },
  {
   "cell_type": "code",
   "execution_count": null,
   "metadata": {},
   "outputs": [],
   "source": [
    "bC = a.reshape( [nRows,nCols] , order='C')\n",
    "print(bC)"
   ]
  },
  {
   "cell_type": "code",
   "execution_count": null,
   "metadata": {},
   "outputs": [],
   "source": [
    "print('r c')\n",
    "for iRow in range(nRows):                   # slow axis\n",
    "    for iCol in range(nCols):               # fast axis - cols\n",
    "        print( iRow,iCol, format( bC[iRow][iCol],'5,.1f') )"
   ]
  },
  {
   "cell_type": "code",
   "execution_count": null,
   "metadata": {
    "scrolled": false
   },
   "outputs": [],
   "source": [
    "cC = bC.reshape( n , order='C')\n",
    "print(cC)"
   ]
  },
  {
   "cell_type": "markdown",
   "metadata": {},
   "source": [
    "### Fortran convention - first index changing fastest"
   ]
  },
  {
   "cell_type": "code",
   "execution_count": null,
   "metadata": {
    "scrolled": true
   },
   "outputs": [],
   "source": [
    "bF = a.reshape( [nRows,nCols] , order='F')\n",
    "print(bF)"
   ]
  },
  {
   "cell_type": "code",
   "execution_count": null,
   "metadata": {},
   "outputs": [],
   "source": [
    "print('r c')\n",
    "for iCol in range(nCols):                   # slow axis\n",
    "    for iRow in range(nRows):               # fast axis - rows\n",
    "        print( iRow,iCol, format( bF[iRow][iCol],'5,.1f') )"
   ]
  },
  {
   "cell_type": "code",
   "execution_count": null,
   "metadata": {
    "scrolled": true
   },
   "outputs": [],
   "source": [
    "cF = bF.reshape( n , order='F')\n",
    "print(cF)"
   ]
  },
  {
   "cell_type": "markdown",
   "metadata": {},
   "source": [
    "### inconsistent/incorrect reshape\n",
    "We need to match the reshape order with the array (i.e. cannot mix C and Fortran conventions)."
   ]
  },
  {
   "cell_type": "code",
   "execution_count": null,
   "metadata": {
    "scrolled": false
   },
   "outputs": [],
   "source": [
    "c = bC.reshape( [n] , order='F')\n",
    "print(c)"
   ]
  },
  {
   "cell_type": "markdown",
   "metadata": {},
   "source": [
    "## ndarray.copy()\n",
    "Array operations act on the same memory space, but modify its indexing. \n",
    "\n",
    "The **copy** method makes an explicit copy of an array.\n",
    "\n",
    "`ndarray.copy(a, order='K')`"
   ]
  },
  {
   "cell_type": "code",
   "execution_count": null,
   "metadata": {},
   "outputs": [],
   "source": [
    "a = np.arange( n , dtype='float')\n",
    "b = a.reshape( [nRows,nCols] )\n",
    "print(a)\n",
    "print(b)"
   ]
  },
  {
   "cell_type": "code",
   "execution_count": null,
   "metadata": {
    "scrolled": true
   },
   "outputs": [],
   "source": [
    "b[irow,icol] = -1\n",
    "print(a)\n",
    "print(b)"
   ]
  },
  {
   "cell_type": "markdown",
   "metadata": {},
   "source": [
    "We can avoid this behavior using the function **copy**."
   ]
  },
  {
   "cell_type": "code",
   "execution_count": null,
   "metadata": {},
   "outputs": [],
   "source": [
    "a = np.arange( n , dtype='float')\n",
    "b = a.reshape( [nRows,nCols] ).copy()\n",
    "print(a)\n",
    "print(b)"
   ]
  },
  {
   "cell_type": "code",
   "execution_count": null,
   "metadata": {
    "scrolled": true
   },
   "outputs": [],
   "source": [
    "b[irow,icol] = -1\n",
    "print(a)\n",
    "print(b)"
   ]
  },
  {
   "cell_type": "markdown",
   "metadata": {},
   "source": [
    "## ndarray.ravel()\n",
    "Return a contiguous flattened array.\n",
    "\n",
    "`ndarray.ravel(order='C')`"
   ]
  },
  {
   "cell_type": "code",
   "execution_count": null,
   "metadata": {},
   "outputs": [],
   "source": [
    "a = np.arange( n , dtype='float').reshape( [nRows,nCols])\n",
    "print(a)"
   ]
  },
  {
   "cell_type": "code",
   "execution_count": null,
   "metadata": {},
   "outputs": [],
   "source": [
    "b = a.ravel()\n",
    "print(b)"
   ]
  },
  {
   "cell_type": "markdown",
   "metadata": {},
   "source": [
    "## ndarray.flatten()\n",
    "Returns a copy of the array collapsed into one dimension.\n",
    "\n",
    "`ndarray.flatten(order='C')`\n",
    "\n",
    "**NB**: flatten is different from ravel in that it returns a **copy** of the array. "
   ]
  },
  {
   "cell_type": "code",
   "execution_count": null,
   "metadata": {},
   "outputs": [],
   "source": [
    "a = np.arange( n , dtype='float').reshape( [nRows,nCols], order='C')\n",
    "print(a)"
   ]
  },
  {
   "cell_type": "code",
   "execution_count": null,
   "metadata": {
    "scrolled": true
   },
   "outputs": [],
   "source": [
    "b = a.flatten()\n",
    "print(b)"
   ]
  },
  {
   "cell_type": "code",
   "execution_count": null,
   "metadata": {},
   "outputs": [],
   "source": [
    "a = np.arange( n , dtype='float').reshape( [nRows,nCols], order='F')\n",
    "print(a)"
   ]
  },
  {
   "cell_type": "code",
   "execution_count": null,
   "metadata": {},
   "outputs": [],
   "source": [
    "b = a.flatten()\n",
    "print(b)"
   ]
  },
  {
   "cell_type": "markdown",
   "metadata": {},
   "source": [
    "## ndarray.resize()\n",
    "Change shape and size of array in-place.\n",
    "\n",
    "`ndarray.resize(new_shape, refcheck=True)`"
   ]
  },
  {
   "cell_type": "code",
   "execution_count": null,
   "metadata": {},
   "outputs": [],
   "source": [
    "a = np.arange( n , dtype='float').reshape( [nRows,nCols]).copy()\n",
    "print(a)"
   ]
  },
  {
   "cell_type": "code",
   "execution_count": null,
   "metadata": {},
   "outputs": [],
   "source": [
    "a.resize([3,2])\n",
    "print(a)"
   ]
  },
  {
   "cell_type": "markdown",
   "metadata": {},
   "source": [
    "## ndarray.compress()\n",
    "Return selected slices of an array along given axis.\n",
    "\n",
    "`ndarray.compress(condition, axis=None, out=None)`"
   ]
  },
  {
   "cell_type": "code",
   "execution_count": null,
   "metadata": {},
   "outputs": [],
   "source": [
    "a = np.arange( n , dtype='float').reshape( [nRows,nCols]).copy()\n",
    "\n",
    "b = a.compress( [False,True,True], axis=0 )\n",
    "print(b)"
   ]
  },
  {
   "cell_type": "code",
   "execution_count": null,
   "metadata": {
    "scrolled": true
   },
   "outputs": [],
   "source": [
    "c = a.compress( [False,True,True,False], axis=1 )\n",
    "print(c)"
   ]
  },
  {
   "cell_type": "code",
   "execution_count": null,
   "metadata": {},
   "outputs": [],
   "source": [
    "d = a.compress( [0,1], axis=0 )\n",
    "print(d)"
   ]
  },
  {
   "cell_type": "markdown",
   "metadata": {},
   "source": [
    "## ndarray.diagonal()\n",
    "Return specified diagonals.\n",
    "\n",
    "`ndarray.diagonal(offset=0, axis1=0, axis2=1)`"
   ]
  },
  {
   "cell_type": "code",
   "execution_count": null,
   "metadata": {},
   "outputs": [],
   "source": [
    "a = np.arange( n , dtype='float').reshape( [nRows,nCols])\n",
    "print(a)"
   ]
  },
  {
   "cell_type": "code",
   "execution_count": null,
   "metadata": {},
   "outputs": [],
   "source": [
    "b = a.diagonal(1)\n",
    "print(b)"
   ]
  },
  {
   "cell_type": "markdown",
   "metadata": {},
   "source": [
    "## ndarray.squueze()\n",
    "Remove single-dimensional entries from the shape of an array.\n",
    "\n",
    "`ndarray.squeeze(axis=None)[source]`"
   ]
  },
  {
   "cell_type": "code",
   "execution_count": null,
   "metadata": {},
   "outputs": [],
   "source": [
    "a = np.arange( n , dtype='float').reshape( [2,1,int(n/2)])\n",
    "print(a)\n",
    "print(a.shape)"
   ]
  },
  {
   "cell_type": "code",
   "execution_count": null,
   "metadata": {},
   "outputs": [],
   "source": [
    "b = a.squeeze( 1 )\n",
    "print(b)\n",
    "print(b.shape)"
   ]
  },
  {
   "cell_type": "markdown",
   "metadata": {},
   "source": [
    "## ndarray.swapaxes()\n",
    "Interchange two axes of an array.\n",
    "\n",
    "`ndarray.swapaxes(axis1, axis2)`"
   ]
  },
  {
   "cell_type": "code",
   "execution_count": null,
   "metadata": {},
   "outputs": [],
   "source": [
    "a = np.arange( n , dtype='float').reshape( [2,1,int(n/2)])\n",
    "print(a)\n",
    "print(a.shape)"
   ]
  },
  {
   "cell_type": "code",
   "execution_count": null,
   "metadata": {},
   "outputs": [],
   "source": [
    "b = a.swapaxes(1,2)\n",
    "print(b)\n",
    "print(b.shape)"
   ]
  },
  {
   "cell_type": "markdown",
   "metadata": {},
   "source": [
    "## ndarray.transpose()\n",
    "Permute the dimensions of an array.\n",
    "\n",
    "`ndarray.transpose(axes=None)`"
   ]
  },
  {
   "cell_type": "code",
   "execution_count": null,
   "metadata": {},
   "outputs": [],
   "source": [
    "a = np.arange( n , dtype='float').reshape( [2,1,int(n/2)])\n",
    "print(a)\n",
    "print(a.shape)"
   ]
  },
  {
   "cell_type": "code",
   "execution_count": null,
   "metadata": {},
   "outputs": [],
   "source": [
    "b = a.transpose()\n",
    "print(b)\n",
    "print(b.shape)"
   ]
  },
  {
   "cell_type": "markdown",
   "metadata": {},
   "source": [
    "## ndarray.trace()\n",
    "Return the sum along diagonals of the array.\n",
    "\n",
    "`ndarray.trace(offset=0, axis1=0, axis2=1, dtype=None, out=None)`"
   ]
  },
  {
   "cell_type": "code",
   "execution_count": null,
   "metadata": {},
   "outputs": [],
   "source": [
    "a = np.arange( n , dtype='float').reshape( [nRows,nCols] )\n",
    "print(a)"
   ]
  },
  {
   "cell_type": "code",
   "execution_count": null,
   "metadata": {
    "scrolled": false
   },
   "outputs": [],
   "source": [
    "print(a.trace(1))"
   ]
  },
  {
   "cell_type": "markdown",
   "metadata": {},
   "source": [
    "<img src=\"https://www.dropbox.com/s/wj23ce93pa9j8pe/demo.png?raw=1\" width=\"10%\" align=\"left\">\n",
    "# Exercise\n",
    "A 2D uncorrelated Gaussian function with center $c_x$,$c_y$ and standard deviations $\\sigma_x,\\sigma_y$ is defined by the formula:\n",
    "\n",
    "$\n",
    "f(x,y) = \\dfrac{1}{2\\pi\\sigma_x\\sigma_y} \n",
    "e^{ -\\dfrac{1}{2} \n",
    "\\left[\n",
    "\\left( \\dfrac{x-c_x}{\\sigma_x} \\right)^2 +\n",
    "\\left( \\dfrac{y-c_y}{\\sigma_y} \\right)^2\n",
    "\\right]\n",
    "}\n",
    "$\n",
    "\n",
    "* Generate an array containing a 11$\\times$11 numeric representation of this function.\n",
    "* Use numpy functions to find the index of the maximum value of the function."
   ]
  },
  {
   "cell_type": "code",
   "execution_count": null,
   "metadata": {},
   "outputs": [],
   "source": [
    "xMin, xMax, dx = -2.0, +2.0, 0.4\n",
    "yMin, yMax, dy = -1.0, +1.0, 0.2\n",
    "\n",
    "x = np.arange(xMin, xMax + dx, dx)\n",
    "y = np.arange(yMin, yMax + dy, dy)\n",
    "\n",
    "X, Y = np.meshgrid(x, y)"
   ]
  },
  {
   "cell_type": "code",
   "execution_count": null,
   "metadata": {},
   "outputs": [],
   "source": [
    "# Gaussian center\n",
    "cx = +0.5\n",
    "cy = -0.5\n",
    "\n",
    "# Gaussian standard deviation\n",
    "sx = 1.00\n",
    "sy = 0.25"
   ]
  },
  {
   "cell_type": "code",
   "execution_count": null,
   "metadata": {},
   "outputs": [],
   "source": [
    "# compute Gaussian\n",
    "\n",
    "G = pow(2*np.pi*sx*sy,-1) * np.exp(-0.5*pow((X-cx)/sx,2) ) * np.exp(-0.5*pow((Y-cy)/sy,2) )"
   ]
  },
  {
   "cell_type": "code",
   "execution_count": null,
   "metadata": {
    "scrolled": false
   },
   "outputs": [],
   "source": [
    "# find the shape of the Gaussian array\n",
    "\n",
    "print(G.shape)"
   ]
  },
  {
   "cell_type": "code",
   "execution_count": null,
   "metadata": {
    "scrolled": true
   },
   "outputs": [],
   "source": [
    "# find the index of the maximum value in the flattened array\n",
    "\n",
    "np.argmax(G, axis=None)"
   ]
  },
  {
   "cell_type": "code",
   "execution_count": null,
   "metadata": {
    "scrolled": true
   },
   "outputs": [],
   "source": [
    "# find the indices of the maximum value in the Gaussian array\n",
    "\n",
    "np.unravel_index(np.argmax(G, axis=None), G.shape)"
   ]
  },
  {
   "cell_type": "markdown",
   "metadata": {},
   "source": [
    "<img src=\"https://www.dropbox.com/s/wj23ce93pa9j8pe/demo.png?raw=1\" width=\"10%\" align=\"left\">\n",
    "# Exercise\n",
    "\n",
    "Consider the **hyperbolic paraboloid** function:\n",
    "\n",
    "$z=x^2-y^2$\n",
    "\n",
    "Create a 5$\\times$5 numpy array using this equation. Use the indexes for the $x$ and $y$ values, with the center at (0,0). \n",
    "\n",
    "You should generate the following 2D array:\n",
    "\n",
    "$ \\begin{bmatrix}\n",
    "0 & -3 & -4 & -3 & 0 \\\\\n",
    "3 & 0 & -1 & 0 & 3 \\\\\n",
    "4 & 1 & 0 & 1 & 4 \\\\\n",
    "3 & 0 & -1 & 0 & 3 \\\\\n",
    "0 & -3 & -4 & -3 & 0 \n",
    "\\end{bmatrix}  $"
   ]
  },
  {
   "cell_type": "code",
   "execution_count": null,
   "metadata": {},
   "outputs": [],
   "source": [
    "# Write your code here!"
   ]
  },
  {
   "cell_type": "markdown",
   "metadata": {},
   "source": [
    "<img src=\"https://www.dropbox.com/s/wj23ce93pa9j8pe/demo.png?raw=1\" width=\"10%\" align=\"left\">\n",
    "# Exercise\n",
    "\n",
    "* Construct a 6$\\times$6 array containing the smallest prime numbers.\n",
    "* Explain if the array has C or Fortran shape. Modify the array to the other convention.\n",
    "* Find the indices of number 19 in the C version of the 2D array of primes.\n",
    "* Reshape the numpy array of primes to have 3 columns.\n",
    "* Construct a 1D numpy array containing the prime number greater than 19."
   ]
  },
  {
   "cell_type": "code",
   "execution_count": null,
   "metadata": {},
   "outputs": [],
   "source": [
    "# Write your code here!"
   ]
  }
 ],
 "metadata": {
  "kernelspec": {
   "display_name": "Python 3",
   "language": "python",
   "name": "python3"
  },
  "language_info": {
   "codemirror_mode": {
    "name": "ipython",
    "version": 3
   },
   "file_extension": ".py",
   "mimetype": "text/x-python",
   "name": "python",
   "nbconvert_exporter": "python",
   "pygments_lexer": "ipython3",
   "version": "3.6.5"
  }
 },
 "nbformat": 4,
 "nbformat_minor": 2
}
